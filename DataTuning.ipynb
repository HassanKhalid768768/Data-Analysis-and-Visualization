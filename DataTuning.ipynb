{
 "cells": [
  {
   "cell_type": "markdown",
   "metadata": {
    "tags": []
   },
   "source": [
    "<div style=\"background-color:#FDFEFE; border-left:5px solid #8E44AD; padding:20px; margin-bottom:20px; border-radius:8px;\">\n",
    "\n",
    "<h2 style=\"color:#8E44AD; text-align:center;\">Library Overview for the Project</h2>\n",
    "\n",
    "<h3 style=\"color:#3498DB; margin-top:20px;\">Data Scraping and Preprocessing</h3>\n",
    "<ul style=\"font-size:16px; font-family: 'Arial', sans-serif; color:#2C3E50;\">\n",
    "  <li><b>pandas</b>: Essential for data manipulation and ingestion.</li>\n",
    "  <li><b>numpy</b>: Supports efficient numerical computations.</li>\n",
    "  <li><b>sklearn.preprocessing</b>: For normalizing and encoding data.</li>\n",
    "</ul>\n",
    "\n",
    "<h3 style=\"color:#E74C3C;\">Data Wrangling and Feature Extraction</h3>\n",
    "<ul style=\"font-size:16px; font-family: 'Arial', sans-serif; color:#2C3E50;\">\n",
    "  <li><b>sklearn.feature_extraction.text</b>: Transforms text data for feature extraction.</li>\n",
    "  <li><b>sklearn.utils</b>: Utility functions for data wrangling.</li>\n",
    "  <li><b>collections</b>: Efficient data manipulation during feature extraction.</li>\n",
    "  <li><b>sklearn.feature_selection</b>: Including <b>SelectKBest</b> and <b>chi2</b> for feature selection.</li>\n",
    "</ul>\n",
    "\n",
    "<h3 style=\"color:#F1C40F;\">Model Training, Fine-tuning, and Model Selection</h3>\n",
    "<ul style=\"font-size:16px; font-family: 'Arial', sans-serif; color:#2C3E50;\">\n",
    "  <li><b>tensorflow</b>: Core library for deep learning models.</li>\n",
    "  <li><b>sklearn.model_selection</b>: Data splitting and cross-validation.</li>\n",
    "  <li><b>tensorflow.keras</b>: Creating and optimizing neural network architectures.</li>\n",
    "  <li><b>tensorflow.keras.callbacks</b>: For <b>ModelCheckpoint</b>, <b>LearningRateScheduler</b>, and <b>EarlyStopping</b>.</li>\n",
    "  <li><b>sklearn.linear_model</b>: Includes <b>LinearRegression</b> for model training.</li>\n",
    "</ul>\n",
    "\n",
    "<h3 style=\"color:#2ECC71;\">Data Visualization</h3>\n",
    "<ul style=\"font-size:16px; font-family: 'Arial', sans-serif; color:#2C3E50;\">\n",
    "  <li><b>matplotlib.pyplot</b>: Wide range of visualizations.</li>\n",
    "  <li><b>wordcloud</b>: Generating word clouds for textual data analysis.</li>\n",
    "</ul>\n",
    "\n",
    "<h3 style=\"color:#9B59B6;\">Evaluation</h3>\n",
    "<ul style=\"font-size:16px; font-family: 'Arial', sans-serif; color:#2C3E50;\">\n",
    "  <li><b>sklearn.metrics</b>: Includes evaluation metrics like <b>mean_squared_error</b> for model evaluation.</li>\n",
    "</ul>\n",
    "\n",
    "</div>\n"
   ]
  },
  {
   "cell_type": "code",
   "execution_count": 1,
   "metadata": {
    "tags": []
   },
   "outputs": [],
   "source": [
    "# !pip install wordcloud -q"
   ]
  },
  {
   "cell_type": "code",
   "execution_count": 2,
   "metadata": {
    "_cell_guid": "b1076dfc-b9ad-4769-8c92-a6c4dae69d19",
    "_uuid": "8f2839f25d086af736a60e9eeb907d3b93b6e0e5",
    "tags": []
   },
   "outputs": [],
   "source": [
    "### Basic libraries\n",
    "import numpy as np\n",
    "import pandas as pd\n",
    "import seaborn as sns\n",
    "import matplotlib.pyplot as plt\n",
    "%matplotlib inline\n",
    "import pickle\n",
    "import warnings\n",
    "from io import StringIO\n",
    "warnings.filterwarnings(action='ignore')\n",
    "\n",
    "# Data Preprocessing\n",
    "from sklearn.preprocessing import MinMaxScaler\n",
    "from sklearn.preprocessing import LabelEncoder\n",
    "from sklearn.feature_selection import SelectKBest \n",
    "from sklearn.feature_selection import chi2\n",
    "\n",
    "# Model Training\n",
    "from sklearn.utils import shuffle\n",
    "from sklearn.model_selection import train_test_split\n",
    "import tensorflow as tf\n",
    "\n",
    "## Import necessary modules for collaborative filtering\n",
    "from tensorflow.keras.layers import Input, Embedding, Dot, Flatten, Dense\n",
    "from tensorflow.keras.models import Model\n",
    "from tensorflow.keras.optimizers import Adam\n",
    "from wordcloud import WordCloud\n",
    "from collections import defaultdict\n",
    "from collections import Counter\n",
    "\n",
    "## Import necessary modules for content-based filtering\n",
    "from sklearn.feature_extraction.text import TfidfVectorizer\n",
    "from sklearn.metrics.pairwise import linear_kernel\n",
    "\n",
    "#Evaluation \n",
    "from sklearn.model_selection import KFold\n",
    "from sklearn.metrics import mean_squared_error, mean_absolute_error, r2_score\n",
    "from sklearn.linear_model import LinearRegression\n",
    "from sklearn.preprocessing import MultiLabelBinarizer\n"
   ]
  },
  {
   "cell_type": "markdown",
   "metadata": {},
   "source": [
    "<div style=\"background-color:#ffffff; border-left:10px solid #5499C7; padding:20px; margin-bottom:20px; border-radius:8px;\">\n",
    "\n",
    "<h2 style=\"color:#5499C7;\">Data Loading</h2>\n",
    "\n",
    "<p style=\"font-size:14px; font-family: 'Arial', sans-serif; color:#1A5276;\">\n",
    "In this section, we focus on the initial step of our data analysis workflow: loading the dataset. Proper data loading is crucial as it forms the foundation for all subsequent analysis and modeling. We'll be using Python libraries such as <b>pandas</b> for reading and structuring our data efficiently. This step involves loading data from various sources, handling different data formats, and ensuring that the data is correctly imported into our Python environment for further processing and analysis.\n",
    "</p>\n",
    "\n",
    "</div>\n"
   ]
  },
  {
   "cell_type": "code",
   "execution_count": 3,
   "metadata": {
    "tags": []
   },
   "outputs": [
    {
     "name": "stdout",
     "output_type": "stream",
     "text": [
      "Shape of the Dataset: (100000, 3)\n"
     ]
    },
    {
     "data": {
      "text/html": [
       "<div>\n",
       "<style scoped>\n",
       "    .dataframe tbody tr th:only-of-type {\n",
       "        vertical-align: middle;\n",
       "    }\n",
       "\n",
       "    .dataframe tbody tr th {\n",
       "        vertical-align: top;\n",
       "    }\n",
       "\n",
       "    .dataframe thead th {\n",
       "        text-align: right;\n",
       "    }\n",
       "</style>\n",
       "<table border=\"1\" class=\"dataframe\">\n",
       "  <thead>\n",
       "    <tr style=\"text-align: right;\">\n",
       "      <th></th>\n",
       "      <th>user_id</th>\n",
       "      <th>anime_id</th>\n",
       "      <th>rating</th>\n",
       "    </tr>\n",
       "  </thead>\n",
       "  <tbody>\n",
       "    <tr>\n",
       "      <th>0</th>\n",
       "      <td>79182</td>\n",
       "      <td>6372</td>\n",
       "      <td>9</td>\n",
       "    </tr>\n",
       "    <tr>\n",
       "      <th>1</th>\n",
       "      <td>329223</td>\n",
       "      <td>87</td>\n",
       "      <td>7</td>\n",
       "    </tr>\n",
       "    <tr>\n",
       "      <th>2</th>\n",
       "      <td>475694</td>\n",
       "      <td>3588</td>\n",
       "      <td>9</td>\n",
       "    </tr>\n",
       "    <tr>\n",
       "      <th>3</th>\n",
       "      <td>451772</td>\n",
       "      <td>4654</td>\n",
       "      <td>6</td>\n",
       "    </tr>\n",
       "    <tr>\n",
       "      <th>4</th>\n",
       "      <td>533993</td>\n",
       "      <td>35076</td>\n",
       "      <td>7</td>\n",
       "    </tr>\n",
       "  </tbody>\n",
       "</table>\n",
       "</div>"
      ],
      "text/plain": [
       "   user_id  anime_id  rating\n",
       "0    79182      6372       9\n",
       "1   329223        87       7\n",
       "2   475694      3588       9\n",
       "3   451772      4654       6\n",
       "4   533993     35076       7"
      ]
     },
     "execution_count": 3,
     "metadata": {},
     "output_type": "execute_result"
    }
   ],
   "source": [
    "# Load the dataset\n",
    "df=pd.read_csv('UserScore.csv', usecols=[\"user_id\",\"anime_id\",\"rating\"])\n",
    "print(\"Shape of the Dataset:\",df.shape)\n",
    "df.head()"
   ]
  },
  {
   "cell_type": "code",
   "execution_count": 4,
   "metadata": {
    "tags": []
   },
   "outputs": [
    {
     "data": {
      "text/html": [
       "<div>\n",
       "<style scoped>\n",
       "    .dataframe tbody tr th:only-of-type {\n",
       "        vertical-align: middle;\n",
       "    }\n",
       "\n",
       "    .dataframe tbody tr th {\n",
       "        vertical-align: top;\n",
       "    }\n",
       "\n",
       "    .dataframe thead th {\n",
       "        text-align: right;\n",
       "    }\n",
       "</style>\n",
       "<table border=\"1\" class=\"dataframe\">\n",
       "  <thead>\n",
       "    <tr style=\"text-align: right;\">\n",
       "      <th></th>\n",
       "      <th>anime_id</th>\n",
       "      <th>Name</th>\n",
       "      <th>English name</th>\n",
       "      <th>Other name</th>\n",
       "      <th>Score</th>\n",
       "      <th>Genres</th>\n",
       "      <th>Synopsis</th>\n",
       "      <th>Type</th>\n",
       "      <th>Episodes</th>\n",
       "      <th>Aired</th>\n",
       "      <th>...</th>\n",
       "      <th>Studios</th>\n",
       "      <th>Source</th>\n",
       "      <th>Duration</th>\n",
       "      <th>Rating</th>\n",
       "      <th>Rank</th>\n",
       "      <th>Popularity</th>\n",
       "      <th>Favorites</th>\n",
       "      <th>Scored By</th>\n",
       "      <th>Members</th>\n",
       "      <th>Image URL</th>\n",
       "    </tr>\n",
       "  </thead>\n",
       "  <tbody>\n",
       "    <tr>\n",
       "      <th>0</th>\n",
       "      <td>1</td>\n",
       "      <td>Cowboy Bebop</td>\n",
       "      <td>Cowboy Bebop</td>\n",
       "      <td>カウボーイビバップ</td>\n",
       "      <td>8.75</td>\n",
       "      <td>Action, Award Winning, Sci-Fi</td>\n",
       "      <td>Crime is timeless. By the year 2071, humanity ...</td>\n",
       "      <td>TV</td>\n",
       "      <td>26.0</td>\n",
       "      <td>Apr 3, 1998 to Apr 24, 1999</td>\n",
       "      <td>...</td>\n",
       "      <td>Sunrise</td>\n",
       "      <td>Original</td>\n",
       "      <td>24 min per ep</td>\n",
       "      <td>R - 17+ (violence &amp; profanity)</td>\n",
       "      <td>41.0</td>\n",
       "      <td>43</td>\n",
       "      <td>78525</td>\n",
       "      <td>914193.0</td>\n",
       "      <td>1771505</td>\n",
       "      <td>https://cdn.myanimelist.net/images/anime/4/196...</td>\n",
       "    </tr>\n",
       "    <tr>\n",
       "      <th>1</th>\n",
       "      <td>5</td>\n",
       "      <td>Cowboy Bebop: Tengoku no Tobira</td>\n",
       "      <td>Cowboy Bebop: The Movie</td>\n",
       "      <td>カウボーイビバップ 天国の扉</td>\n",
       "      <td>8.38</td>\n",
       "      <td>Action, Sci-Fi</td>\n",
       "      <td>Another day, another bounty—such is the life o...</td>\n",
       "      <td>Movie</td>\n",
       "      <td>1.0</td>\n",
       "      <td>Sep 1, 2001</td>\n",
       "      <td>...</td>\n",
       "      <td>Bones</td>\n",
       "      <td>Original</td>\n",
       "      <td>1 hr 55 min</td>\n",
       "      <td>R - 17+ (violence &amp; profanity)</td>\n",
       "      <td>189.0</td>\n",
       "      <td>602</td>\n",
       "      <td>1448</td>\n",
       "      <td>206248.0</td>\n",
       "      <td>360978</td>\n",
       "      <td>https://cdn.myanimelist.net/images/anime/1439/...</td>\n",
       "    </tr>\n",
       "    <tr>\n",
       "      <th>2</th>\n",
       "      <td>6</td>\n",
       "      <td>Trigun</td>\n",
       "      <td>Trigun</td>\n",
       "      <td>トライガン</td>\n",
       "      <td>8.22</td>\n",
       "      <td>Action, Adventure, Sci-Fi</td>\n",
       "      <td>Vash the Stampede is the man with a $$60,000,0...</td>\n",
       "      <td>TV</td>\n",
       "      <td>26.0</td>\n",
       "      <td>Apr 1, 1998 to Sep 30, 1998</td>\n",
       "      <td>...</td>\n",
       "      <td>Madhouse</td>\n",
       "      <td>Manga</td>\n",
       "      <td>24 min per ep</td>\n",
       "      <td>PG-13 - Teens 13 or older</td>\n",
       "      <td>328.0</td>\n",
       "      <td>246</td>\n",
       "      <td>15035</td>\n",
       "      <td>356739.0</td>\n",
       "      <td>727252</td>\n",
       "      <td>https://cdn.myanimelist.net/images/anime/7/203...</td>\n",
       "    </tr>\n",
       "    <tr>\n",
       "      <th>3</th>\n",
       "      <td>7</td>\n",
       "      <td>Witch Hunter Robin</td>\n",
       "      <td>Witch Hunter Robin</td>\n",
       "      <td>Witch Hunter ROBIN (ウイッチハンターロビン)</td>\n",
       "      <td>7.25</td>\n",
       "      <td>Action, Drama, Mystery, Supernatural</td>\n",
       "      <td>Robin Sena is a powerful craft user drafted in...</td>\n",
       "      <td>TV</td>\n",
       "      <td>26.0</td>\n",
       "      <td>Jul 3, 2002 to Dec 25, 2002</td>\n",
       "      <td>...</td>\n",
       "      <td>Sunrise</td>\n",
       "      <td>Original</td>\n",
       "      <td>25 min per ep</td>\n",
       "      <td>PG-13 - Teens 13 or older</td>\n",
       "      <td>2764.0</td>\n",
       "      <td>1795</td>\n",
       "      <td>613</td>\n",
       "      <td>42829.0</td>\n",
       "      <td>111931</td>\n",
       "      <td>https://cdn.myanimelist.net/images/anime/10/19...</td>\n",
       "    </tr>\n",
       "    <tr>\n",
       "      <th>4</th>\n",
       "      <td>8</td>\n",
       "      <td>Bouken Ou Beet</td>\n",
       "      <td>Beet the Vandel Buster</td>\n",
       "      <td>冒険王ビィト</td>\n",
       "      <td>6.94</td>\n",
       "      <td>Adventure, Fantasy, Supernatural</td>\n",
       "      <td>It is the dark century and the people are suff...</td>\n",
       "      <td>TV</td>\n",
       "      <td>52.0</td>\n",
       "      <td>Sep 30, 2004 to Sep 29, 2005</td>\n",
       "      <td>...</td>\n",
       "      <td>Toei Animation</td>\n",
       "      <td>Manga</td>\n",
       "      <td>23 min per ep</td>\n",
       "      <td>PG - Children</td>\n",
       "      <td>4240.0</td>\n",
       "      <td>5126</td>\n",
       "      <td>14</td>\n",
       "      <td>6413.0</td>\n",
       "      <td>15001</td>\n",
       "      <td>https://cdn.myanimelist.net/images/anime/7/215...</td>\n",
       "    </tr>\n",
       "  </tbody>\n",
       "</table>\n",
       "<p>5 rows × 24 columns</p>\n",
       "</div>"
      ],
      "text/plain": [
       "   anime_id                             Name             English name  \\\n",
       "0         1                     Cowboy Bebop             Cowboy Bebop   \n",
       "1         5  Cowboy Bebop: Tengoku no Tobira  Cowboy Bebop: The Movie   \n",
       "2         6                           Trigun                   Trigun   \n",
       "3         7               Witch Hunter Robin       Witch Hunter Robin   \n",
       "4         8                   Bouken Ou Beet   Beet the Vandel Buster   \n",
       "\n",
       "                         Other name Score  \\\n",
       "0                         カウボーイビバップ  8.75   \n",
       "1                    カウボーイビバップ 天国の扉  8.38   \n",
       "2                             トライガン  8.22   \n",
       "3  Witch Hunter ROBIN (ウイッチハンターロビン)  7.25   \n",
       "4                            冒険王ビィト  6.94   \n",
       "\n",
       "                                 Genres  \\\n",
       "0         Action, Award Winning, Sci-Fi   \n",
       "1                        Action, Sci-Fi   \n",
       "2             Action, Adventure, Sci-Fi   \n",
       "3  Action, Drama, Mystery, Supernatural   \n",
       "4      Adventure, Fantasy, Supernatural   \n",
       "\n",
       "                                            Synopsis   Type Episodes  \\\n",
       "0  Crime is timeless. By the year 2071, humanity ...     TV     26.0   \n",
       "1  Another day, another bounty—such is the life o...  Movie      1.0   \n",
       "2  Vash the Stampede is the man with a $$60,000,0...     TV     26.0   \n",
       "3  Robin Sena is a powerful craft user drafted in...     TV     26.0   \n",
       "4  It is the dark century and the people are suff...     TV     52.0   \n",
       "\n",
       "                          Aired  ...         Studios    Source       Duration  \\\n",
       "0   Apr 3, 1998 to Apr 24, 1999  ...         Sunrise  Original  24 min per ep   \n",
       "1                   Sep 1, 2001  ...           Bones  Original    1 hr 55 min   \n",
       "2   Apr 1, 1998 to Sep 30, 1998  ...        Madhouse     Manga  24 min per ep   \n",
       "3   Jul 3, 2002 to Dec 25, 2002  ...         Sunrise  Original  25 min per ep   \n",
       "4  Sep 30, 2004 to Sep 29, 2005  ...  Toei Animation     Manga  23 min per ep   \n",
       "\n",
       "                           Rating    Rank Popularity Favorites Scored By  \\\n",
       "0  R - 17+ (violence & profanity)    41.0         43     78525  914193.0   \n",
       "1  R - 17+ (violence & profanity)   189.0        602      1448  206248.0   \n",
       "2       PG-13 - Teens 13 or older   328.0        246     15035  356739.0   \n",
       "3       PG-13 - Teens 13 or older  2764.0       1795       613   42829.0   \n",
       "4                   PG - Children  4240.0       5126        14    6413.0   \n",
       "\n",
       "   Members                                          Image URL  \n",
       "0  1771505  https://cdn.myanimelist.net/images/anime/4/196...  \n",
       "1   360978  https://cdn.myanimelist.net/images/anime/1439/...  \n",
       "2   727252  https://cdn.myanimelist.net/images/anime/7/203...  \n",
       "3   111931  https://cdn.myanimelist.net/images/anime/10/19...  \n",
       "4    15001  https://cdn.myanimelist.net/images/anime/7/215...  \n",
       "\n",
       "[5 rows x 24 columns]"
      ]
     },
     "execution_count": 4,
     "metadata": {},
     "output_type": "execute_result"
    }
   ],
   "source": [
    "df_anime = pd.read_csv('AnimeInfo.csv')\n",
    "df_anime.head()"
   ]
  },
  {
   "cell_type": "markdown",
   "metadata": {
    "tags": []
   },
   "source": [
    "<div style=\"background-color:#ffffff; border-left:5px solid #CB4335; padding:20px; margin-bottom:20px; border-radius:8px;\">\n",
    "\n",
    "<h2 style=\"color:#CB4335;\">Data Preprocessing</h2>\n",
    "\n",
    "<p style=\"font-size:14px; font-family: 'Arial', sans-serif; color:#922B21;\">\n",
    "Data preprocessing is a crucial stage in our data analysis workflow. In this phase, we focus on preparing our dataset for further analysis and modeling. Key steps in this process include cleaning the data, handling missing values, normalizing data scales, and encoding categorical variables. Our aim is to transform raw data into a format that is more suitable for modeling, thereby improving the quality and effectiveness of the insights we can derive from our analysis.\n",
    "</p>\n",
    "\n",
    "</div>\n"
   ]
  },
  {
   "cell_type": "code",
   "execution_count": 5,
   "metadata": {
    "tags": []
   },
   "outputs": [
    {
     "name": "stdout",
     "output_type": "stream",
     "text": [
      "<class 'pandas.core.frame.DataFrame'>              <class 'pandas.core.frame.DataFrame'>\n",
      "RangeIndex: 100000 entries, 0 to 99999             RangeIndex: 24905 entries, 0 to 24904\n",
      "Data columns (total 3 columns):                    Data columns (total 24 columns):\n",
      " #   Column    Non-Null Count   Dtype               #   Column        Non-Null Count  Dtype \n",
      "---  ------    --------------   -----              ---  ------        --------------  ----- \n",
      " 0   user_id   100000 non-null  int64               0   anime_id      24905 non-null  int64 \n",
      " 1   anime_id  100000 non-null  int64               1   Name          24905 non-null  object\n",
      " 2   rating    100000 non-null  int64               2   English name  24905 non-null  object\n",
      "dtypes: int64(3)                                    3   Other name    24905 non-null  object\n",
      "memory usage: 2.3 MB                                4   Score         24905 non-null  object\n",
      "                                                    5   Genres        24905 non-null  object\n"
     ]
    }
   ],
   "source": [
    "\n",
    "info_df = StringIO()\n",
    "info_df_anime = StringIO()\n",
    "df.info(buf=info_df)\n",
    "df_anime.info(buf=info_df_anime)\n",
    "\n",
    "# Split and print the info side by side\n",
    "info_lines_df = info_df.getvalue().split('\\n')\n",
    "info_lines_df_anime = info_df_anime.getvalue().split('\\n')\n",
    "\n",
    "for line_df, line_df_anime in zip(info_lines_df, info_lines_df_anime):\n",
    "    print(f\"{line_df:<50} {line_df_anime}\")\n"
   ]
  },
  {
   "cell_type": "code",
   "execution_count": 6,
   "metadata": {
    "tags": []
   },
   "outputs": [
    {
     "name": "stdout",
     "output_type": "stream",
     "text": [
      "Duplicated Rows:\n",
      "Empty DataFrame\n",
      "Columns: [user_id, anime_id, rating]\n",
      "Index: []\n"
     ]
    }
   ],
   "source": [
    "# Checking if there are any duplicate rows\n",
    "duplicated_rows = df[df.duplicated()]\n",
    "print(\"Duplicated Rows:\")\n",
    "print(duplicated_rows)"
   ]
  },
  {
   "cell_type": "code",
   "execution_count": 7,
   "metadata": {
    "tags": []
   },
   "outputs": [
    {
     "name": "stdout",
     "output_type": "stream",
     "text": [
      "Average Score: 7.62301\n"
     ]
    }
   ],
   "source": [
    "# Calculating the average score\n",
    "avg_score = np.mean(df['rating'])\n",
    "print('Average Score:', avg_score)"
   ]
  },
  {
   "cell_type": "code",
   "execution_count": 8,
   "metadata": {
    "tags": []
   },
   "outputs": [],
   "source": [
    "\n",
    "scaler = MinMaxScaler(feature_range=(0, 1))\n",
    "\n",
    "# Scale the 'score' column between 0 and 1\n",
    "df['scaled_score'] = scaler.fit_transform(df[['rating']])"
   ]
  },
  {
   "cell_type": "code",
   "execution_count": 9,
   "metadata": {
    "tags": []
   },
   "outputs": [
    {
     "name": "stdout",
     "output_type": "stream",
     "text": [
      "Number of unique users: 64340, Number of unique anime: 7121\n",
      "Minimum rating: 1, Maximum rating: 10\n"
     ]
    }
   ],
   "source": [
    "# Encoding categorical data\n",
    "\n",
    "user_encoder = LabelEncoder()\n",
    "df[\"user_encoded\"] = user_encoder.fit_transform(df[\"user_id\"])\n",
    "num_users = len(user_encoder.classes_)\n",
    "\n",
    "## Encoding anime IDs\n",
    "anime_encoder = LabelEncoder()\n",
    "df[\"anime_encoded\"] = anime_encoder.fit_transform(df[\"anime_id\"])\n",
    "num_animes = len(anime_encoder.classes_)\n",
    "\n",
    "# Printing dataset information\n",
    "print(\"Number of unique users: {}, Number of unique anime: {}\".format(num_users, num_animes))\n",
    "print(\"Minimum rating: {}, Maximum rating: {}\".format(min(df['rating']), max(df['rating'])))"
   ]
  },
  {
   "cell_type": "code",
   "execution_count": 10,
   "metadata": {
    "tags": []
   },
   "outputs": [
    {
     "name": "stdout",
     "output_type": "stream",
     "text": [
      "<class 'pandas.core.frame.DataFrame'>\n",
      "RangeIndex: 100000 entries, 0 to 99999\n",
      "Data columns (total 6 columns):\n",
      " #   Column         Non-Null Count   Dtype  \n",
      "---  ------         --------------   -----  \n",
      " 0   user_id        100000 non-null  int64  \n",
      " 1   anime_id       100000 non-null  int64  \n",
      " 2   rating         100000 non-null  int64  \n",
      " 3   scaled_score   100000 non-null  float64\n",
      " 4   user_encoded   100000 non-null  int64  \n",
      " 5   anime_encoded  100000 non-null  int64  \n",
      "dtypes: float64(1), int64(5)\n",
      "memory usage: 4.6 MB\n"
     ]
    }
   ],
   "source": [
    "df.info()"
   ]
  },
  {
   "cell_type": "markdown",
   "metadata": {},
   "source": [
    "<div style=\"background-color:#FFFFFF; border-left:5px solid #F39C12; padding:20px; margin-bottom:20px; border-radius:8px;\">\n",
    "\n",
    "<h2 style=\"color:#F39C12;\">Feature Selection</h2>\n",
    "\n",
    "<ul style=\"font-size:14px; font-family: 'Arial', sans-serif; color:#B9770E;\">\n",
    "  <li><b>Pivotal Stage:</b> Diligently sift through our datasets to pinpoint the most pertinent features for our predictive models.</li>\n",
    "  <li><b>Goal:</b> Boost model accuracy, curtail overfitting, and optimize computational efficiency.</li>\n",
    "  <li><b>Methodology:</b> Deploy the SelectKBest method, incorporating the chi-squared test from the scikit-learn library.</li>\n",
    "  <li><b>User Ratings DataFrame:</b> Composed predominantly of integer data, navigated using the chi-squared feature selection.</li>\n",
    "  <li><b>Focus:</b> Unravel key user attributes that substantially influence ratings.</li>\n",
    "  <li><b>Anime Information DataFrame:</b> Demands a nuanced approach due to its categorical nature.</li>\n",
    "  <li><b>One-Hot Encoding:</b> Convert categorical elements into a numerical framework, facilitating chi-squared test application.</li>\n",
    "  <li><b>Key Process:</b> Uncover which aspects of anime data profoundly affect the target metric, such as the score.</li>\n",
    "  <li><b>Outcome:</b> Lay the groundwork for constructing potent and insightful predictive models, ensuring efficient and effective analysis.</li>\n",
    "</ul>\n",
    "\n",
    "</div>\n"
   ]
  },
  {
   "cell_type": "code",
   "execution_count": 11,
   "metadata": {
    "tags": []
   },
   "outputs": [
    {
     "name": "stdout",
     "output_type": "stream",
     "text": [
      "Original feature number: 5\n",
      "Reduced feature number: 5\n"
     ]
    }
   ],
   "source": [
    "from sklearn.feature_selection import SelectKBest, chi2\n",
    "\n",
    "# Assuming df_user is your User Ratings DataFrame\n",
    "X_user = df.drop('rating', axis=1)  # features\n",
    "y_user = df['rating']               # target variable\n",
    "X_cat = X_user.astype(int)\n",
    "# Apply SelectKBest\n",
    "chi2_selector_user = SelectKBest(chi2, k='all')  # 'all' or specify a number\n",
    "X_kbest_user = chi2_selector_user.fit_transform(X_cat, y_user)\n",
    "\n",
    "# Reduced features\n",
    "print('Original feature number:', X_cat.shape[1])\n",
    "print('Reduced feature number:', X_kbest_user.shape[1])\n"
   ]
  },
  {
   "cell_type": "code",
   "execution_count": 12,
   "metadata": {
    "tags": []
   },
   "outputs": [
    {
     "data": {
      "text/plain": [
       "<Axes: >"
      ]
     },
     "execution_count": 12,
     "metadata": {},
     "output_type": "execute_result"
    },
    {
     "data": {
      "image/png": "[encoded data removed]",
      "text/plain": [
       "<Figure size 1000x600 with 2 Axes>"
      ]
     },
     "metadata": {},
     "output_type": "display_data"
    }
   ],
   "source": [
    "\n",
    "#Correlation matrix\n",
    "cor = df.corr()\n",
    "# Plotting Heatmap\n",
    "plt.figure(figsize = (10,6))\n",
    "sns.heatmap (cor, annot=True)"
   ]
  },
  {
   "cell_type": "markdown",
   "metadata": {},
   "source": [
    "<div style=\"background-color:#FFFFFF; border-left:5px solid #8E44AD; padding:20px; margin-bottom:20px; border-radius:8px;\">\n",
    "\n",
    "<h2 style=\"color:#8E44AD;\">Model Training (Collaborative Filtering)</h2>\n",
    "\n",
    "<p style=\"font-size:14px; font-family: 'Arial', sans-serif; color:#6C3483;\">\n",
    "We undertake a meticulous journey in developing a collaborative filtering model, pivotal in the realm of personalized recommendation systems. This detailed process involves several key steps, as outlined in our code:\n",
    "<ul style=\"color:#6C3483;\">\n",
    "  <li><b>Data Preparation:</b> Initiating with the shuffling of our dataset using a fixed random state ensures the randomness and reproducibility of our model.</li>\n",
    "  <li><b>Creating Feature Matrix and Target:</b> We extract the necessary features and target variable, focusing on encoded user and anime IDs as features (<i>X</i>) and scaled scores as the target (<i>y</i>).</li>\n",
    "  <li><b>Splitting Data:</b> The dataset is divided into training and test sets, balancing between learning and validation to assess the model's generalizability.</li>\n",
    "  <li><b>Model Architecture - RecommenderNet:</b> Our model architecture, RecommenderNet, is intricately designed with embedding layers for both users and animes. The architecture captures the complex interplay between users and animes through a dot product layer and further processes the information via dense layers, aiming for accurate prediction of user preferences.</li>\n",
    "  <li><b>Compilation and Optimization:</b> The model is compiled with a binary cross-entropy loss function, and we employ the Adam optimizer. Metrics like Mean Absolute Error (MAE) and Mean Squared Error (MSE) are tracked to evaluate the model's performance.</li>\n",
    "  <li><b>Advanced Training Techniques:</b> We use a learning rate scheduler to dynamically adjust the learning rate, Model Checkpoint to save the best model iteration, and Early Stopping to prevent overfitting. These techniques collectively contribute to a robust and efficient learning process.</li>\n",
    "  <li><b>Training Execution:</b> The model undergoes training with specified epochs and batch size, utilizing our array of callbacks to optimize performance and efficiency throughout the learning phase.</li>\n",
    "  <li><b>Model Evaluation:</b> Post training, the best model weights are reloaded for evaluation, ensuring we utilize the iteration with the most favorable performance.</li>\n",
    "</ul>\n",
    "This collaborative filtering approach represents a harmonious blend of strategic data manipulation, sophisticated neural network architecture, and advanced training methodologies, all converging to provide nuanced and personalized user recommendations.\n",
    "</p>\n",
    "\n",
    "</div>\n"
   ]
  },
  {
   "cell_type": "code",
   "execution_count": 13,
   "metadata": {
    "tags": []
   },
   "outputs": [
    {
     "name": "stdout",
     "output_type": "stream",
     "text": [
      "Shape of X: (100000, 2)\n",
      "Shape of y: (100000,)\n"
     ]
    }
   ],
   "source": [
    "# Shuffle the dataset\n",
    "df = shuffle(df, random_state=100)\n",
    "\n",
    "# Create feature matrix X and target variable y\n",
    "X = df[['user_encoded', 'anime_encoded']].values\n",
    "y = df[\"scaled_score\"].values\n",
    "\n",
    "# Printing dataset information\n",
    "print(\"Shape of X:\", X.shape)\n",
    "print(\"Shape of y:\", y.shape)"
   ]
  },
  {
   "cell_type": "code",
   "execution_count": 14,
   "metadata": {
    "tags": []
   },
   "outputs": [
    {
     "name": "stdout",
     "output_type": "stream",
     "text": [
      "Number of samples in the training set: 90000\n",
      "Number of samples in the test set: 10000\n"
     ]
    }
   ],
   "source": [
    "test_set_size = 10000  # Number of samples to include in the test set\n",
    "\n",
    "X_train, X_test, y_train, y_test = train_test_split(X, y, test_size=test_set_size, random_state=73)\n",
    "\n",
    "print(\"Number of samples in the training set:\", len(y_train))\n",
    "print(\"Number of samples in the test set:\", len(y_test))"
   ]
  },
  {
   "cell_type": "code",
   "execution_count": 15,
   "metadata": {
    "tags": []
   },
   "outputs": [],
   "source": [
    "# Prepare input data for model training and evaluation\n",
    "X_train_array = [X_train[:, 0], X_train[:, 1]]\n",
    "X_test_array = [X_test[:, 0], X_test[:, 1]]"
   ]
  },
  {
   "cell_type": "code",
   "execution_count": 16,
   "metadata": {
    "tags": []
   },
   "outputs": [
    {
     "name": "stdout",
     "output_type": "stream",
     "text": [
      "Model: \"model\"\n",
      "__________________________________________________________________________________________________\n",
      " Layer (type)                   Output Shape         Param #     Connected to                     \n",
      "==================================================================================================\n",
      " user_encoded (InputLayer)      [(None, 1)]          0           []                               \n",
      "                                                                                                  \n",
      " anime_encoded (InputLayer)     [(None, 1)]          0           []                               \n",
      "                                                                                                  \n",
      " user_embedding (Embedding)     (None, 1, 128)       8235520     ['user_encoded[0][0]']           \n",
      "                                                                                                  \n",
      " anime_embedding (Embedding)    (None, 1, 128)       911488      ['anime_encoded[0][0]']          \n",
      "                                                                                                  \n",
      " dot_product (Dot)              (None, 1, 1)         0           ['user_embedding[0][0]',         \n",
      "                                                                  'anime_embedding[0][0]']        \n",
      "                                                                                                  \n",
      " flatten (Flatten)              (None, 1)            0           ['dot_product[0][0]']            \n",
      "                                                                                                  \n",
      " dense (Dense)                  (None, 64)           128         ['flatten[0][0]']                \n",
      "                                                                                                  \n",
      " dense_1 (Dense)                (None, 1)            65          ['dense[0][0]']                  \n",
      "                                                                                                  \n",
      "==================================================================================================\n",
      "Total params: 9,147,201\n",
      "Trainable params: 9,147,201\n",
      "Non-trainable params: 0\n",
      "__________________________________________________________________________________________________\n"
     ]
    }
   ],
   "source": [
    "def RecommenderNet(num_users, num_animes, embedding_size=128):\n",
    "    user = Input(name='user_encoded', shape=[1])\n",
    "    user_embedding = Embedding(name='user_embedding', input_dim=num_users, output_dim=embedding_size)(user)\n",
    "\n",
    "    anime = Input(name='anime_encoded', shape=[1])\n",
    "    anime_embedding = Embedding(name='anime_embedding', input_dim=num_animes, output_dim=embedding_size)(anime)\n",
    "\n",
    "    dot_product = Dot(name='dot_product', normalize=True, axes=2)([user_embedding, anime_embedding])\n",
    "    flattened = Flatten()(dot_product)\n",
    "\n",
    "    dense = Dense(64, activation='relu')(flattened)\n",
    "    output = Dense(1, activation='sigmoid')(dense)\n",
    "\n",
    "    model = Model(inputs=[user, anime], outputs=output)\n",
    "    model.compile(loss='binary_crossentropy', optimizer=Adam(learning_rate=0.001), metrics=[\"mae\", \"mse\"])\n",
    "    \n",
    "    return model\n",
    "\n",
    "# Create the model\n",
    "model = RecommenderNet(num_users, num_animes)\n",
    "\n",
    "# Printing the model summary\n",
    "model.summary()"
   ]
  },
  {
   "cell_type": "code",
   "execution_count": 17,
   "metadata": {
    "tags": []
   },
   "outputs": [],
   "source": [
    "from tensorflow.keras.callbacks import ModelCheckpoint, LearningRateScheduler, EarlyStopping\n",
    "\n",
    "# Define the initial learning rate, minimum learning rate, maximum learning rate, and batch size\n",
    "start_lr = 0.00001\n",
    "min_lr = 0.00001\n",
    "max_lr = 0.00005\n",
    "batch_size = 10000\n",
    "\n",
    "# Define the number of epochs for ramp-up, sustain, and exponential decay\n",
    "rampup_epochs = 5\n",
    "sustain_epochs = 0\n",
    "exp_decay = .8\n",
    "\n",
    "# Learning rate schedule function\n",
    "def lrfn(epoch):\n",
    "    if epoch < rampup_epochs:\n",
    "        return (max_lr - start_lr) / rampup_epochs * epoch + start_lr\n",
    "    elif epoch < rampup_epochs + sustain_epochs:\n",
    "        return max_lr\n",
    "    else:\n",
    "        return (max_lr - min_lr) * exp_decay**(epoch - rampup_epochs - sustain_epochs) + min_lr\n",
    "\n",
    "# Learning rate scheduler callback\n",
    "lr_callback = LearningRateScheduler(lambda epoch: lrfn(epoch), verbose=0)\n",
    "\n",
    "# File path for saving the model weights\n",
    "checkpoint_filepath = 'myanimeweights.h5'\n",
    "\n",
    "# Model checkpoint callback to save the best weights\n",
    "model_checkpoints = ModelCheckpoint(filepath=checkpoint_filepath,\n",
    "                                    save_weights_only=True,\n",
    "                                    monitor='val_loss',\n",
    "                                    mode='min',\n",
    "                                    save_best_only=True)\n",
    "\n",
    "# Early stopping callback to prevent overfitting\n",
    "early_stopping = EarlyStopping(patience=3, monitor='val_loss', mode='min', restore_best_weights=True)\n",
    "\n",
    "# Define the list of callbacks\n",
    "my_callbacks = [\n",
    "    model_checkpoints,\n",
    "    lr_callback,\n",
    "    early_stopping\n",
    "]\n"
   ]
  },
  {
   "cell_type": "code",
   "execution_count": 18,
   "metadata": {
    "tags": []
   },
   "outputs": [
    {
     "name": "stdout",
     "output_type": "stream",
     "text": [
      "Epoch 1/60\n",
      "9/9 [==============================] - 4s 218ms/step - loss: 0.6909 - mae: 0.2615 - mse: 0.0886 - val_loss: 0.6908 - val_mae: 0.2632 - val_mse: 0.0898 - lr: 1.0000e-05\n",
      "Epoch 2/60\n",
      "9/9 [==============================] - 1s 144ms/step - loss: 0.6907 - mae: 0.2613 - mse: 0.0885 - val_loss: 0.6905 - val_mae: 0.2629 - val_mse: 0.0896 - lr: 1.8000e-05\n",
      "Epoch 3/60\n",
      "9/9 [==============================] - 1s 141ms/step - loss: 0.6904 - mae: 0.2610 - mse: 0.0884 - val_loss: 0.6902 - val_mae: 0.2627 - val_mse: 0.0895 - lr: 2.6000e-05\n",
      "Epoch 4/60\n",
      "9/9 [==============================] - 1s 147ms/step - loss: 0.6899 - mae: 0.2606 - mse: 0.0881 - val_loss: 0.6897 - val_mae: 0.2623 - val_mse: 0.0893 - lr: 3.4000e-05\n",
      "Epoch 5/60\n",
      "9/9 [==============================] - 1s 159ms/step - loss: 0.6894 - mae: 0.2602 - mse: 0.0879 - val_loss: 0.6892 - val_mae: 0.2618 - val_mse: 0.0890 - lr: 4.2000e-05\n",
      "Epoch 6/60\n",
      "9/9 [==============================] - 1s 151ms/step - loss: 0.6887 - mae: 0.2596 - mse: 0.0875 - val_loss: 0.6885 - val_mae: 0.2612 - val_mse: 0.0886 - lr: 5.0000e-05\n",
      "Epoch 7/60\n",
      "9/9 [==============================] - 1s 159ms/step - loss: 0.6880 - mae: 0.2590 - mse: 0.0872 - val_loss: 0.6880 - val_mae: 0.2608 - val_mse: 0.0884 - lr: 4.2000e-05\n",
      "Epoch 8/60\n",
      "9/9 [==============================] - 1s 156ms/step - loss: 0.6874 - mae: 0.2585 - mse: 0.0869 - val_loss: 0.6875 - val_mae: 0.2604 - val_mse: 0.0881 - lr: 3.5600e-05\n",
      "Epoch 9/60\n",
      "9/9 [==============================] - 1s 165ms/step - loss: 0.6869 - mae: 0.2580 - mse: 0.0866 - val_loss: 0.6871 - val_mae: 0.2600 - val_mse: 0.0879 - lr: 3.0480e-05\n",
      "Epoch 10/60\n",
      "9/9 [==============================] - 1s 161ms/step - loss: 0.6864 - mae: 0.2576 - mse: 0.0864 - val_loss: 0.6868 - val_mae: 0.2597 - val_mse: 0.0878 - lr: 2.6384e-05\n",
      "Epoch 11/60\n",
      "9/9 [==============================] - 1s 145ms/step - loss: 0.6860 - mae: 0.2573 - mse: 0.0862 - val_loss: 0.6865 - val_mae: 0.2595 - val_mse: 0.0876 - lr: 2.3107e-05\n",
      "Epoch 12/60\n",
      "9/9 [==============================] - 1s 156ms/step - loss: 0.6857 - mae: 0.2570 - mse: 0.0860 - val_loss: 0.6862 - val_mae: 0.2592 - val_mse: 0.0875 - lr: 2.0486e-05\n",
      "Epoch 13/60\n",
      "9/9 [==============================] - 1s 167ms/step - loss: 0.6854 - mae: 0.2567 - mse: 0.0858 - val_loss: 0.6860 - val_mae: 0.2590 - val_mse: 0.0874 - lr: 1.8389e-05\n",
      "Epoch 14/60\n",
      "9/9 [==============================] - 1s 144ms/step - loss: 0.6851 - mae: 0.2565 - mse: 0.0857 - val_loss: 0.6858 - val_mae: 0.2588 - val_mse: 0.0873 - lr: 1.6711e-05\n",
      "Epoch 15/60\n",
      "9/9 [==============================] - 1s 154ms/step - loss: 0.6848 - mae: 0.2562 - mse: 0.0856 - val_loss: 0.6856 - val_mae: 0.2587 - val_mse: 0.0872 - lr: 1.5369e-05\n",
      "Epoch 16/60\n",
      "9/9 [==============================] - 1s 143ms/step - loss: 0.6846 - mae: 0.2560 - mse: 0.0855 - val_loss: 0.6854 - val_mae: 0.2585 - val_mse: 0.0871 - lr: 1.4295e-05\n",
      "Epoch 17/60\n",
      "9/9 [==============================] - 1s 167ms/step - loss: 0.6843 - mae: 0.2558 - mse: 0.0853 - val_loss: 0.6852 - val_mae: 0.2583 - val_mse: 0.0870 - lr: 1.3436e-05\n",
      "Epoch 18/60\n",
      "9/9 [==============================] - 1s 150ms/step - loss: 0.6841 - mae: 0.2557 - mse: 0.0852 - val_loss: 0.6850 - val_mae: 0.2582 - val_mse: 0.0869 - lr: 1.2749e-05\n",
      "Epoch 19/60\n",
      "9/9 [==============================] - 1s 168ms/step - loss: 0.6839 - mae: 0.2555 - mse: 0.0851 - val_loss: 0.6849 - val_mae: 0.2581 - val_mse: 0.0868 - lr: 1.2199e-05\n",
      "Epoch 20/60\n",
      "9/9 [==============================] - 1s 153ms/step - loss: 0.6837 - mae: 0.2553 - mse: 0.0850 - val_loss: 0.6847 - val_mae: 0.2579 - val_mse: 0.0867 - lr: 1.1759e-05\n",
      "Epoch 21/60\n",
      "9/9 [==============================] - 1s 157ms/step - loss: 0.6836 - mae: 0.2551 - mse: 0.0849 - val_loss: 0.6846 - val_mae: 0.2578 - val_mse: 0.0867 - lr: 1.1407e-05\n",
      "Epoch 22/60\n",
      "9/9 [==============================] - 1s 137ms/step - loss: 0.6834 - mae: 0.2550 - mse: 0.0849 - val_loss: 0.6844 - val_mae: 0.2577 - val_mse: 0.0866 - lr: 1.1126e-05\n",
      "Epoch 23/60\n",
      "9/9 [==============================] - 1s 139ms/step - loss: 0.6832 - mae: 0.2548 - mse: 0.0848 - val_loss: 0.6843 - val_mae: 0.2575 - val_mse: 0.0865 - lr: 1.0901e-05\n",
      "Epoch 24/60\n",
      "9/9 [==============================] - 1s 144ms/step - loss: 0.6830 - mae: 0.2547 - mse: 0.0847 - val_loss: 0.6841 - val_mae: 0.2574 - val_mse: 0.0865 - lr: 1.0721e-05\n",
      "Epoch 25/60\n",
      "9/9 [==============================] - 1s 152ms/step - loss: 0.6828 - mae: 0.2545 - mse: 0.0846 - val_loss: 0.6840 - val_mae: 0.2573 - val_mse: 0.0864 - lr: 1.0576e-05\n",
      "Epoch 26/60\n",
      "9/9 [==============================] - 1s 141ms/step - loss: 0.6827 - mae: 0.2544 - mse: 0.0845 - val_loss: 0.6839 - val_mae: 0.2572 - val_mse: 0.0863 - lr: 1.0461e-05\n",
      "Epoch 27/60\n",
      "9/9 [==============================] - 1s 148ms/step - loss: 0.6825 - mae: 0.2542 - mse: 0.0844 - val_loss: 0.6837 - val_mae: 0.2571 - val_mse: 0.0863 - lr: 1.0369e-05\n",
      "Epoch 28/60\n",
      "9/9 [==============================] - 1s 156ms/step - loss: 0.6823 - mae: 0.2541 - mse: 0.0843 - val_loss: 0.6836 - val_mae: 0.2569 - val_mse: 0.0862 - lr: 1.0295e-05\n",
      "Epoch 29/60\n",
      "9/9 [==============================] - 1s 140ms/step - loss: 0.6822 - mae: 0.2539 - mse: 0.0842 - val_loss: 0.6835 - val_mae: 0.2568 - val_mse: 0.0861 - lr: 1.0236e-05\n",
      "Epoch 30/60\n",
      "9/9 [==============================] - 1s 145ms/step - loss: 0.6820 - mae: 0.2538 - mse: 0.0842 - val_loss: 0.6833 - val_mae: 0.2567 - val_mse: 0.0861 - lr: 1.0189e-05\n",
      "Epoch 31/60\n",
      "9/9 [==============================] - 1s 152ms/step - loss: 0.6818 - mae: 0.2536 - mse: 0.0841 - val_loss: 0.6832 - val_mae: 0.2566 - val_mse: 0.0860 - lr: 1.0151e-05\n",
      "Epoch 32/60\n",
      "9/9 [==============================] - 1s 162ms/step - loss: 0.6816 - mae: 0.2535 - mse: 0.0840 - val_loss: 0.6831 - val_mae: 0.2565 - val_mse: 0.0859 - lr: 1.0121e-05\n",
      "Epoch 33/60\n",
      "9/9 [==============================] - 1s 146ms/step - loss: 0.6815 - mae: 0.2533 - mse: 0.0839 - val_loss: 0.6829 - val_mae: 0.2564 - val_mse: 0.0859 - lr: 1.0097e-05\n",
      "Epoch 34/60\n",
      "9/9 [==============================] - 1s 146ms/step - loss: 0.6813 - mae: 0.2532 - mse: 0.0838 - val_loss: 0.6828 - val_mae: 0.2563 - val_mse: 0.0858 - lr: 1.0077e-05\n",
      "Epoch 35/60\n",
      "9/9 [==============================] - 1s 151ms/step - loss: 0.6811 - mae: 0.2530 - mse: 0.0837 - val_loss: 0.6827 - val_mae: 0.2561 - val_mse: 0.0857 - lr: 1.0062e-05\n",
      "Epoch 36/60\n",
      "9/9 [==============================] - 1s 143ms/step - loss: 0.6810 - mae: 0.2529 - mse: 0.0837 - val_loss: 0.6826 - val_mae: 0.2560 - val_mse: 0.0857 - lr: 1.0050e-05\n",
      "Epoch 37/60\n",
      "9/9 [==============================] - 1s 143ms/step - loss: 0.6808 - mae: 0.2527 - mse: 0.0836 - val_loss: 0.6824 - val_mae: 0.2559 - val_mse: 0.0856 - lr: 1.0040e-05\n",
      "Epoch 38/60\n",
      "9/9 [==============================] - 1s 137ms/step - loss: 0.6806 - mae: 0.2526 - mse: 0.0835 - val_loss: 0.6823 - val_mae: 0.2558 - val_mse: 0.0855 - lr: 1.0032e-05\n",
      "Epoch 39/60\n",
      "9/9 [==============================] - 1s 140ms/step - loss: 0.6805 - mae: 0.2524 - mse: 0.0834 - val_loss: 0.6822 - val_mae: 0.2557 - val_mse: 0.0855 - lr: 1.0025e-05\n",
      "Epoch 40/60\n",
      "9/9 [==============================] - 1s 148ms/step - loss: 0.6803 - mae: 0.2523 - mse: 0.0833 - val_loss: 0.6820 - val_mae: 0.2556 - val_mse: 0.0854 - lr: 1.0020e-05\n",
      "Epoch 41/60\n",
      "9/9 [==============================] - 1s 138ms/step - loss: 0.6801 - mae: 0.2521 - mse: 0.0832 - val_loss: 0.6819 - val_mae: 0.2554 - val_mse: 0.0853 - lr: 1.0016e-05\n",
      "Epoch 42/60\n",
      "9/9 [==============================] - 1s 154ms/step - loss: 0.6800 - mae: 0.2520 - mse: 0.0832 - val_loss: 0.6818 - val_mae: 0.2553 - val_mse: 0.0853 - lr: 1.0013e-05\n",
      "Epoch 43/60\n",
      "9/9 [==============================] - 1s 157ms/step - loss: 0.6798 - mae: 0.2518 - mse: 0.0831 - val_loss: 0.6816 - val_mae: 0.2552 - val_mse: 0.0852 - lr: 1.0010e-05\n",
      "Epoch 44/60\n",
      "9/9 [==============================] - 1s 157ms/step - loss: 0.6796 - mae: 0.2517 - mse: 0.0830 - val_loss: 0.6815 - val_mae: 0.2551 - val_mse: 0.0851 - lr: 1.0008e-05\n",
      "Epoch 45/60\n",
      "9/9 [==============================] - 1s 153ms/step - loss: 0.6794 - mae: 0.2515 - mse: 0.0829 - val_loss: 0.6814 - val_mae: 0.2550 - val_mse: 0.0851 - lr: 1.0007e-05\n",
      "Epoch 46/60\n",
      "9/9 [==============================] - 1s 154ms/step - loss: 0.6793 - mae: 0.2514 - mse: 0.0828 - val_loss: 0.6813 - val_mae: 0.2549 - val_mse: 0.0850 - lr: 1.0005e-05\n",
      "Epoch 47/60\n",
      "9/9 [==============================] - 1s 148ms/step - loss: 0.6791 - mae: 0.2512 - mse: 0.0827 - val_loss: 0.6811 - val_mae: 0.2548 - val_mse: 0.0849 - lr: 1.0004e-05\n",
      "Epoch 48/60\n",
      "9/9 [==============================] - 1s 150ms/step - loss: 0.6789 - mae: 0.2511 - mse: 0.0826 - val_loss: 0.6810 - val_mae: 0.2546 - val_mse: 0.0849 - lr: 1.0003e-05\n",
      "Epoch 49/60\n",
      "9/9 [==============================] - 1s 155ms/step - loss: 0.6788 - mae: 0.2509 - mse: 0.0826 - val_loss: 0.6809 - val_mae: 0.2545 - val_mse: 0.0848 - lr: 1.0003e-05\n",
      "Epoch 50/60\n",
      "9/9 [==============================] - 1s 152ms/step - loss: 0.6786 - mae: 0.2508 - mse: 0.0825 - val_loss: 0.6807 - val_mae: 0.2544 - val_mse: 0.0847 - lr: 1.0002e-05\n",
      "Epoch 51/60\n",
      "9/9 [==============================] - 1s 158ms/step - loss: 0.6784 - mae: 0.2506 - mse: 0.0824 - val_loss: 0.6806 - val_mae: 0.2543 - val_mse: 0.0847 - lr: 1.0002e-05\n",
      "Epoch 52/60\n",
      "9/9 [==============================] - 1s 153ms/step - loss: 0.6782 - mae: 0.2505 - mse: 0.0823 - val_loss: 0.6805 - val_mae: 0.2542 - val_mse: 0.0846 - lr: 1.0001e-05\n",
      "Epoch 53/60\n",
      "9/9 [==============================] - 1s 156ms/step - loss: 0.6781 - mae: 0.2503 - mse: 0.0822 - val_loss: 0.6803 - val_mae: 0.2541 - val_mse: 0.0846 - lr: 1.0001e-05\n",
      "Epoch 54/60\n",
      "9/9 [==============================] - 1s 157ms/step - loss: 0.6779 - mae: 0.2502 - mse: 0.0821 - val_loss: 0.6802 - val_mae: 0.2539 - val_mse: 0.0845 - lr: 1.0001e-05\n",
      "Epoch 55/60\n",
      "9/9 [==============================] - 1s 153ms/step - loss: 0.6777 - mae: 0.2500 - mse: 0.0820 - val_loss: 0.6801 - val_mae: 0.2538 - val_mse: 0.0844 - lr: 1.0001e-05\n",
      "Epoch 56/60\n",
      "9/9 [==============================] - 1s 154ms/step - loss: 0.6776 - mae: 0.2498 - mse: 0.0820 - val_loss: 0.6800 - val_mae: 0.2537 - val_mse: 0.0844 - lr: 1.0001e-05\n",
      "Epoch 57/60\n",
      "9/9 [==============================] - 1s 154ms/step - loss: 0.6774 - mae: 0.2497 - mse: 0.0819 - val_loss: 0.6798 - val_mae: 0.2536 - val_mse: 0.0843 - lr: 1.0000e-05\n",
      "Epoch 58/60\n",
      "9/9 [==============================] - 1s 152ms/step - loss: 0.6772 - mae: 0.2495 - mse: 0.0818 - val_loss: 0.6797 - val_mae: 0.2535 - val_mse: 0.0842 - lr: 1.0000e-05\n",
      "Epoch 59/60\n",
      "9/9 [==============================] - 1s 154ms/step - loss: 0.6770 - mae: 0.2494 - mse: 0.0817 - val_loss: 0.6796 - val_mae: 0.2534 - val_mse: 0.0842 - lr: 1.0000e-05\n",
      "Epoch 60/60\n",
      "9/9 [==============================] - 1s 156ms/step - loss: 0.6769 - mae: 0.2492 - mse: 0.0816 - val_loss: 0.6794 - val_mae: 0.2532 - val_mse: 0.0841 - lr: 1.0000e-05\n"
     ]
    }
   ],
   "source": [
    "# Model training\n",
    "history = model.fit(\n",
    "    x=X_train_array,\n",
    "    y=y_train,\n",
    "    batch_size=batch_size,\n",
    "    epochs=60,\n",
    "    verbose=1,\n",
    "    validation_data=(X_test_array, y_test),\n",
    "    callbacks=my_callbacks\n",
    ")\n",
    "\n",
    "model.load_weights(checkpoint_filepath)"
   ]
  },
  {
   "cell_type": "code",
   "execution_count": 19,
   "metadata": {
    "tags": []
   },
   "outputs": [
    {
     "data": {
      "image/png": "[encoded data removed]",
      "text/plain": [
       "<Figure size 640x480 with 1 Axes>"
      ]
     },
     "metadata": {},
     "output_type": "display_data"
    }
   ],
   "source": [
    "# Training results visualization\n",
    "\n",
    "plt.plot(history.history[\"loss\"][0:-2])\n",
    "plt.plot(history.history[\"val_loss\"][0:-2])\n",
    "plt.title(\"Training Loss\")\n",
    "plt.ylabel(\"Loss\")\n",
    "plt.xlabel(\"Epoch\")\n",
    "plt.legend([\"Train\", \"Validation\"], loc=\"upper left\")\n",
    "plt.show()"
   ]
  },
  {
   "cell_type": "markdown",
   "metadata": {
    "jp-MarkdownHeadingCollapsed": true,
    "tags": []
   },
   "source": [
    "<div style=\"background-color:#FFFFFF; border-left:5px solid #28B463; padding:20px; margin-bottom:20px; border-radius:8px;\">\n",
    "\n",
    "<h2 style=\"color:#28B463;\">Recommendation Process</h2>\n",
    "\n",
    "<p style=\"font-size:14px; font-family: 'Arial', sans-serif; color:#1D8348;\">\n",
    "In the realm of our collaborative filtering model, we embark on a sophisticated journey to fine-tune anime recommendations for our users. The process, outlined in our model, encapsulates several essential steps to ensure precision and relevance:\n",
    "<ul style=\"color:#1D8348;\">\n",
    "  <li><b>Extraction of Embeddings:</b> The foundation is laid by extracting and normalizing embeddings from our model. These embeddings, representing users and animes, are essential for understanding user preferences and anime characteristics.</li>\n",
    "  <li><b>Popularity Threshold Implementation:</b> A crucial aspect of our approach is the introduction of a popularity threshold. <i>\"Now I want my model to recommend only those animes that have been rated by at least a certain number of users, which I will set as the threshold. This threshold helps ensure that the recommended anime titles have received a sufficient number of ratings, indicating a certain level of popularity or user engagement.\"</i> This step ensures that our recommendations are not only personalized but also resonate with wider audience preferences.</li>\n",
    "  <li><b>Filtering for Quality Assurance:</b> Applying the threshold, we refine our anime dataset, retaining only those titles that meet this popularity criterion. This approach ensures a balance between individualized recommendations and broader appeal.</li>\n",
    "</ul>\n",
    "This methodical and data-driven process aims to deliver recommendations that are not just tailored to individual users but also reflect titles with significant engagement, thereby enhancing the overall recommendation quality.\n",
    "</p>\n",
    "\n",
    "</div>\n"
   ]
  },
  {
   "cell_type": "code",
   "execution_count": 20,
   "metadata": {
    "tags": []
   },
   "outputs": [],
   "source": [
    "def extract_weights(name, model):\n",
    "    # Get the layer by name from the model\n",
    "    weight_layer = model.get_layer(name)\n",
    "    \n",
    "    # Get the weights from the layer\n",
    "    weights = weight_layer.get_weights()[0]\n",
    "    \n",
    "    # Normalize the weights\n",
    "    weights = weights / np.linalg.norm(weights, axis=1).reshape((-1, 1))\n",
    "    \n",
    "    return weights\n",
    "\n",
    "# Extract weights for anime embeddings\n",
    "anime_weights = extract_weights('anime_embedding', model)\n",
    "# Extract weights for user embeddings\n",
    "user_weights = extract_weights('user_embedding', model)"
   ]
  },
  {
   "cell_type": "code",
   "execution_count": 21,
   "metadata": {
    "tags": []
   },
   "outputs": [
    {
     "name": "stdout",
     "output_type": "stream",
     "text": [
      "(22879, 24)\n"
     ]
    },
    {
     "data": {
      "text/html": [
       "<div>\n",
       "<style scoped>\n",
       "    .dataframe tbody tr th:only-of-type {\n",
       "        vertical-align: middle;\n",
       "    }\n",
       "\n",
       "    .dataframe tbody tr th {\n",
       "        vertical-align: top;\n",
       "    }\n",
       "\n",
       "    .dataframe thead th {\n",
       "        text-align: right;\n",
       "    }\n",
       "</style>\n",
       "<table border=\"1\" class=\"dataframe\">\n",
       "  <thead>\n",
       "    <tr style=\"text-align: right;\">\n",
       "      <th></th>\n",
       "      <th>anime_id</th>\n",
       "      <th>Name</th>\n",
       "      <th>English name</th>\n",
       "      <th>Other name</th>\n",
       "      <th>Score</th>\n",
       "      <th>Genres</th>\n",
       "      <th>Synopsis</th>\n",
       "      <th>Type</th>\n",
       "      <th>Episodes</th>\n",
       "      <th>Aired</th>\n",
       "      <th>...</th>\n",
       "      <th>Studios</th>\n",
       "      <th>Source</th>\n",
       "      <th>Duration</th>\n",
       "      <th>Rating</th>\n",
       "      <th>Rank</th>\n",
       "      <th>Popularity</th>\n",
       "      <th>Favorites</th>\n",
       "      <th>Scored By</th>\n",
       "      <th>Members</th>\n",
       "      <th>Image URL</th>\n",
       "    </tr>\n",
       "  </thead>\n",
       "  <tbody>\n",
       "    <tr>\n",
       "      <th>0</th>\n",
       "      <td>1</td>\n",
       "      <td>Cowboy Bebop</td>\n",
       "      <td>Cowboy Bebop</td>\n",
       "      <td>カウボーイビバップ</td>\n",
       "      <td>8.75</td>\n",
       "      <td>Action, Award Winning, Sci-Fi</td>\n",
       "      <td>Crime is timeless. By the year 2071, humanity ...</td>\n",
       "      <td>TV</td>\n",
       "      <td>26.0</td>\n",
       "      <td>Apr 3, 1998 to Apr 24, 1999</td>\n",
       "      <td>...</td>\n",
       "      <td>Sunrise</td>\n",
       "      <td>Original</td>\n",
       "      <td>24 min per ep</td>\n",
       "      <td>R - 17+ (violence &amp; profanity)</td>\n",
       "      <td>41.0</td>\n",
       "      <td>43</td>\n",
       "      <td>78525</td>\n",
       "      <td>914193.0</td>\n",
       "      <td>1771505</td>\n",
       "      <td>https://cdn.myanimelist.net/images/anime/4/196...</td>\n",
       "    </tr>\n",
       "    <tr>\n",
       "      <th>1</th>\n",
       "      <td>5</td>\n",
       "      <td>Cowboy Bebop: Tengoku no Tobira</td>\n",
       "      <td>Cowboy Bebop: The Movie</td>\n",
       "      <td>カウボーイビバップ 天国の扉</td>\n",
       "      <td>8.38</td>\n",
       "      <td>Action, Sci-Fi</td>\n",
       "      <td>Another day, another bounty—such is the life o...</td>\n",
       "      <td>Movie</td>\n",
       "      <td>1.0</td>\n",
       "      <td>Sep 1, 2001</td>\n",
       "      <td>...</td>\n",
       "      <td>Bones</td>\n",
       "      <td>Original</td>\n",
       "      <td>1 hr 55 min</td>\n",
       "      <td>R - 17+ (violence &amp; profanity)</td>\n",
       "      <td>189.0</td>\n",
       "      <td>602</td>\n",
       "      <td>1448</td>\n",
       "      <td>206248.0</td>\n",
       "      <td>360978</td>\n",
       "      <td>https://cdn.myanimelist.net/images/anime/1439/...</td>\n",
       "    </tr>\n",
       "    <tr>\n",
       "      <th>2</th>\n",
       "      <td>6</td>\n",
       "      <td>Trigun</td>\n",
       "      <td>Trigun</td>\n",
       "      <td>トライガン</td>\n",
       "      <td>8.22</td>\n",
       "      <td>Action, Adventure, Sci-Fi</td>\n",
       "      <td>Vash the Stampede is the man with a $$60,000,0...</td>\n",
       "      <td>TV</td>\n",
       "      <td>26.0</td>\n",
       "      <td>Apr 1, 1998 to Sep 30, 1998</td>\n",
       "      <td>...</td>\n",
       "      <td>Madhouse</td>\n",
       "      <td>Manga</td>\n",
       "      <td>24 min per ep</td>\n",
       "      <td>PG-13 - Teens 13 or older</td>\n",
       "      <td>328.0</td>\n",
       "      <td>246</td>\n",
       "      <td>15035</td>\n",
       "      <td>356739.0</td>\n",
       "      <td>727252</td>\n",
       "      <td>https://cdn.myanimelist.net/images/anime/7/203...</td>\n",
       "    </tr>\n",
       "  </tbody>\n",
       "</table>\n",
       "<p>3 rows × 24 columns</p>\n",
       "</div>"
      ],
      "text/plain": [
       "   anime_id                             Name             English name  \\\n",
       "0         1                     Cowboy Bebop             Cowboy Bebop   \n",
       "1         5  Cowboy Bebop: Tengoku no Tobira  Cowboy Bebop: The Movie   \n",
       "2         6                           Trigun                   Trigun   \n",
       "\n",
       "       Other name Score                         Genres  \\\n",
       "0       カウボーイビバップ  8.75  Action, Award Winning, Sci-Fi   \n",
       "1  カウボーイビバップ 天国の扉  8.38                 Action, Sci-Fi   \n",
       "2           トライガン  8.22      Action, Adventure, Sci-Fi   \n",
       "\n",
       "                                            Synopsis   Type Episodes  \\\n",
       "0  Crime is timeless. By the year 2071, humanity ...     TV     26.0   \n",
       "1  Another day, another bounty—such is the life o...  Movie      1.0   \n",
       "2  Vash the Stampede is the man with a $$60,000,0...     TV     26.0   \n",
       "\n",
       "                         Aired  ...   Studios    Source       Duration  \\\n",
       "0  Apr 3, 1998 to Apr 24, 1999  ...   Sunrise  Original  24 min per ep   \n",
       "1                  Sep 1, 2001  ...     Bones  Original    1 hr 55 min   \n",
       "2  Apr 1, 1998 to Sep 30, 1998  ...  Madhouse     Manga  24 min per ep   \n",
       "\n",
       "                           Rating   Rank Popularity Favorites Scored By  \\\n",
       "0  R - 17+ (violence & profanity)   41.0         43     78525  914193.0   \n",
       "1  R - 17+ (violence & profanity)  189.0        602      1448  206248.0   \n",
       "2       PG-13 - Teens 13 or older  328.0        246     15035  356739.0   \n",
       "\n",
       "   Members                                          Image URL  \n",
       "0  1771505  https://cdn.myanimelist.net/images/anime/4/196...  \n",
       "1   360978  https://cdn.myanimelist.net/images/anime/1439/...  \n",
       "2   727252  https://cdn.myanimelist.net/images/anime/7/203...  \n",
       "\n",
       "[3 rows x 24 columns]"
      ]
     },
     "execution_count": 21,
     "metadata": {},
     "output_type": "execute_result"
    }
   ],
   "source": [
    "popularity_threshold = 50\n",
    "df_anime= df_anime.query('Members >= @popularity_threshold')\n",
    "print(df_anime.shape)\n",
    "df_anime.head(3)      # only give rating of those movies for which atleast 200 user have rated"
   ]
  },
  {
   "cell_type": "markdown",
   "metadata": {},
   "source": [
    "<div style=\"background-color:#E8F8F5; border-left:5px solid #17A589; padding:20px; margin-bottom:20px; border-radius:8px;\">\n",
    "\n",
    "<h2 style=\"color:#17A589;\">1: Item Based Recommendation</h2>\n",
    "\n",
    "<p style=\"font-size:14px; font-family: 'Arial', sans-serif; color:#148F77;\">\n",
    "The Item-Based Recommendation module of our system is designed to find animes similar to a given title. This functionality, encapsulated in the <code>find_similar_animes</code> function, follows a precise and user-centric approach:\n",
    "<ul style=\"color:#148F77;\">\n",
    "  <li><b>Anime Identification:</b> The function begins by identifying the anime within our dataset, extracting its unique ID based on the provided name.</li>\n",
    "  <li><b>Similarity Computation:</b> Using the pre-trained anime embeddings, it calculates similarity scores with all other animes, leveraging the dot product of their embeddings.</li>\n",
    "  <li><b>Ranking Similar Animes:</b> Animes are sorted according to their similarity scores. The function can return either the most or least similar animes, governed by the 'neg' parameter.</li>\n",
    "  <li><b>Detail Extraction:</b> For each similar anime, it compiles essential details such as the name, similarity score, genre, and synopsis, presenting a well-rounded perspective of the recommendations.</li>\n",
    "  <li><b>Edge Case Management:</b> In scenarios where the given anime name is not found, the function responsibly notifies the user, ensuring clarity and trustworthiness.</li>\n",
    "</ul>\n",
    "By employing this method, we provide viewers with recommendations closely aligned with their preferences, rooted in the similarities of individual titles, thereby enriching the user experience with personalized content.\n",
    "</p>\n",
    "\n",
    "</div>\n"
   ]
  },
  {
   "cell_type": "code",
   "execution_count": 22,
   "metadata": {
    "tags": []
   },
   "outputs": [],
   "source": [
    "def find_similar_animes(name, n=10, return_dist=False, neg=False):\n",
    "    try:\n",
    "        anime_row = df_anime[df_anime['Name'] == name].iloc[0]\n",
    "        index = anime_row['anime_id']\n",
    "        encoded_index = anime_encoder.transform([index])[0]\n",
    "        weights = anime_weights\n",
    "        dists = np.dot(weights, weights[encoded_index])\n",
    "        sorted_dists = np.argsort(dists)\n",
    "        n = n + 1            \n",
    "        if neg:\n",
    "            closest = sorted_dists[:n]\n",
    "        else:\n",
    "            closest = sorted_dists[-n:]\n",
    "        print('Animes closest to {}'.format(name))\n",
    "        if return_dist:\n",
    "            return dists, closest\n",
    "        \n",
    "        SimilarityArr = []\n",
    "        \n",
    "        for close in closest:\n",
    "            decoded_id = anime_encoder.inverse_transform([close])[0]\n",
    "            anime_frame = df_anime[df_anime['anime_id'] == decoded_id]\n",
    "            \n",
    "            anime_name = anime_frame['Name'].values[0]\n",
    "            english_name = anime_frame['English name'].values[0]\n",
    "            name = english_name if english_name != \"UNKNOWN\" else anime_name\n",
    "            genre = anime_frame['Genres'].values[0]\n",
    "            Synopsis = anime_frame['Synopsis'].values[0]\n",
    "            similarity = dists[close]\n",
    "            similarity = \"{:.2f}%\".format(similarity * 100)\n",
    "            SimilarityArr.append({\"Name\": name, \"Similarity\": similarity, \"Genres\": genre, \"Synopsis\":Synopsis})\n",
    "        Frame = pd.DataFrame(SimilarityArr).sort_values(by=\"Similarity\", ascending=False)\n",
    "        return Frame[Frame.Name != name]\n",
    "    except:\n",
    "        print('{} not found in Anime list'.format(name))\n",
    "\n",
    "pd.set_option('display.max_colwidth', None)"
   ]
  },
  {
   "cell_type": "code",
   "execution_count": 23,
   "metadata": {
    "tags": []
   },
   "outputs": [
    {
     "name": "stdout",
     "output_type": "stream",
     "text": [
      "Animes closest to Tensei shitara Slime Datta Ken\n"
     ]
    },
    {
     "data": {
      "text/html": [
       "<div>\n",
       "<style scoped>\n",
       "    .dataframe tbody tr th:only-of-type {\n",
       "        vertical-align: middle;\n",
       "    }\n",
       "\n",
       "    .dataframe tbody tr th {\n",
       "        vertical-align: top;\n",
       "    }\n",
       "\n",
       "    .dataframe thead th {\n",
       "        text-align: right;\n",
       "    }\n",
       "</style>\n",
       "<table border=\"1\" class=\"dataframe\">\n",
       "  <thead>\n",
       "    <tr style=\"text-align: right;\">\n",
       "      <th></th>\n",
       "      <th>Name</th>\n",
       "      <th>Similarity</th>\n",
       "      <th>Genres</th>\n",
       "      <th>Synopsis</th>\n",
       "    </tr>\n",
       "  </thead>\n",
       "  <tbody>\n",
       "    <tr>\n",
       "      <th>4</th>\n",
       "      <td>Love Stage!!</td>\n",
       "      <td>34.39%</td>\n",
       "      <td>Boys Love, Comedy, Romance</td>\n",
       "      <td>With an actress mother, producer father, and rockstar brother, anyone would expect Izumi Sena to eventually enter showbiz himself. However, aside from a commercial for a wedding magazine when he was a child, Izumi has never been in the spotlight; instead, he aims to become a manga artist. \\n\\nBut a decade after the shoot, the magazine calls for a 10th anniversary ad, requesting the original child actors for the project. This reunites Izumi with Ryouma Ichijou, now a popular actor who, much to Izumi's shock, has been in love with him ever since their first meeting! However, due to Izumi's feminine appearance and unisex name, Ryouma believed the boy was a girl and continues to do so to this day. Izumi's troubles are just beginning, because even after discovering the truth, Ryouma can't seem to shake off his feelings...</td>\n",
       "    </tr>\n",
       "    <tr>\n",
       "      <th>3</th>\n",
       "      <td>Miss Kobayashi's Dragon Maid S</td>\n",
       "      <td>34.13%</td>\n",
       "      <td>Fantasy, Slice of Life</td>\n",
       "      <td>As Tooru continues on her quest to become the greatest maid and Kanna Kamui fully immerses in her life as an elementary school student, there is not a dull day in the Kobayashi household with mischief being a daily staple. On one such day, however, a massive landslide is spotted on the hill where Kobayashi and Tooru first met—a clear display of a dragon's might. When none of the dragons they know claim responsibility, the perpetrator herself descends from the skies: Ilulu, the radical Chaos Dragon with monstrous power rivaling that of Tooru.\\n\\nSickened by Tooru's involvement with humans, Ilulu resorts to the typical dragon method of resolving conflict—a battle to the death. Despite such behavior, she becomes intrigued by Kobayashi's ability to befriend dragons and decides instead to observe just what makes Kobayashi so special. With a new troublesome dragon in town, Kobayashi's eccentric life with a dragon maid is only getting merrier.</td>\n",
       "    </tr>\n",
       "    <tr>\n",
       "      <th>2</th>\n",
       "      <td>Mobile Suit Gundam: The 08th MS Team - Miller's Report</td>\n",
       "      <td>32.17%</td>\n",
       "      <td>Drama, Romance, Sci-Fi</td>\n",
       "      <td>Shortly after being rescued off the Himalayas, Federation Ensign Shiro Amada is accused of espionage due to his encounter with Zeon's top-secret mobile armor. Intelligence officer Alice Miller is assigned to investigate on Shiro's whereabouts during his disappearance. Her documented findings will determine whether or not Shiro is a traitor, and what his fate will be as commander of the 08th MS Team.\\n\\n(Source: ANN)</td>\n",
       "    </tr>\n",
       "    <tr>\n",
       "      <th>1</th>\n",
       "      <td>Crying Freeman</td>\n",
       "      <td>30.35%</td>\n",
       "      <td>Action, Drama, Romance</td>\n",
       "      <td>Yo Hinomura was an ordinary Japanese potter when a run-in with a Chinese mafia changed his life forever. Now an assassin for the 108 Dragons, Yo is the perfect killing machine. As a sign for remorse over his victims, he sheds tears after eliminating his targets. Because of this, he is infamously known by the Dragons and every crime syndicate in the world as \"Crying Freeman.\"\\n\\n(Source: ANN)</td>\n",
       "    </tr>\n",
       "    <tr>\n",
       "      <th>0</th>\n",
       "      <td>The Life of Budori Gusuko</td>\n",
       "      <td>29.40%</td>\n",
       "      <td>Award Winning, Drama, Fantasy, Slice of Life</td>\n",
       "      <td>The fairy tale follows a young man named Budori Gusuko in the Tohoku forests of northeastern Japan in the 1920s. After an onslaught of droughts and natural disasters, Budori is forced to leave his home and search for a better life elsewhere. Budori joins a group of scientists at the Ihatov Volcano Department, which deals with the same natural disasters that drove Budori from his home.\\n\\n(Source: ANN)</td>\n",
       "    </tr>\n",
       "  </tbody>\n",
       "</table>\n",
       "</div>"
      ],
      "text/plain": [
       "                                                     Name Similarity  \\\n",
       "4                                            Love Stage!!     34.39%   \n",
       "3                          Miss Kobayashi's Dragon Maid S     34.13%   \n",
       "2  Mobile Suit Gundam: The 08th MS Team - Miller's Report     32.17%   \n",
       "1                                          Crying Freeman     30.35%   \n",
       "0                               The Life of Budori Gusuko     29.40%   \n",
       "\n",
       "                                         Genres  \\\n",
       "4                    Boys Love, Comedy, Romance   \n",
       "3                        Fantasy, Slice of Life   \n",
       "2                        Drama, Romance, Sci-Fi   \n",
       "1                        Action, Drama, Romance   \n",
       "0  Award Winning, Drama, Fantasy, Slice of Life   \n",
       "\n",
       "                                                                                                                                                                                                                                                                                                                                                                                                                                                                                                                                                                                                                                                                                                                                                                                                                                                                                                                                                                                 Synopsis  \n",
       "4                                                                                                                            With an actress mother, producer father, and rockstar brother, anyone would expect Izumi Sena to eventually enter showbiz himself. However, aside from a commercial for a wedding magazine when he was a child, Izumi has never been in the spotlight; instead, he aims to become a manga artist. \\n\\nBut a decade after the shoot, the magazine calls for a 10th anniversary ad, requesting the original child actors for the project. This reunites Izumi with Ryouma Ichijou, now a popular actor who, much to Izumi's shock, has been in love with him ever since their first meeting! However, due to Izumi's feminine appearance and unisex name, Ryouma believed the boy was a girl and continues to do so to this day. Izumi's troubles are just beginning, because even after discovering the truth, Ryouma can't seem to shake off his feelings...  \n",
       "3  As Tooru continues on her quest to become the greatest maid and Kanna Kamui fully immerses in her life as an elementary school student, there is not a dull day in the Kobayashi household with mischief being a daily staple. On one such day, however, a massive landslide is spotted on the hill where Kobayashi and Tooru first met—a clear display of a dragon's might. When none of the dragons they know claim responsibility, the perpetrator herself descends from the skies: Ilulu, the radical Chaos Dragon with monstrous power rivaling that of Tooru.\\n\\nSickened by Tooru's involvement with humans, Ilulu resorts to the typical dragon method of resolving conflict—a battle to the death. Despite such behavior, she becomes intrigued by Kobayashi's ability to befriend dragons and decides instead to observe just what makes Kobayashi so special. With a new troublesome dragon in town, Kobayashi's eccentric life with a dragon maid is only getting merrier.  \n",
       "2                                                                                                                                                                                                                                                                                                                                                                                                                                                                                                                                                     Shortly after being rescued off the Himalayas, Federation Ensign Shiro Amada is accused of espionage due to his encounter with Zeon's top-secret mobile armor. Intelligence officer Alice Miller is assigned to investigate on Shiro's whereabouts during his disappearance. Her documented findings will determine whether or not Shiro is a traitor, and what his fate will be as commander of the 08th MS Team.\\n\\n(Source: ANN)  \n",
       "1                                                                                                                                                                                                                                                                                                                                                                                                                                                                                                                                                                              Yo Hinomura was an ordinary Japanese potter when a run-in with a Chinese mafia changed his life forever. Now an assassin for the 108 Dragons, Yo is the perfect killing machine. As a sign for remorse over his victims, he sheds tears after eliminating his targets. Because of this, he is infamously known by the Dragons and every crime syndicate in the world as \"Crying Freeman.\"\\n\\n(Source: ANN)  \n",
       "0                                                                                                                                                                                                                                                                                                                                                                                                                                                                                                                                                                    The fairy tale follows a young man named Budori Gusuko in the Tohoku forests of northeastern Japan in the 1920s. After an onslaught of droughts and natural disasters, Budori is forced to leave his home and search for a better life elsewhere. Budori joins a group of scientists at the Ihatov Volcano Department, which deals with the same natural disasters that drove Budori from his home.\\n\\n(Source: ANN)  "
      ]
     },
     "execution_count": 23,
     "metadata": {},
     "output_type": "execute_result"
    }
   ],
   "source": [
    "find_similar_animes('Tensei shitara Slime Datta Ken', n=5, neg=False)  # That Time I Got Reincarnated as a Slime"
   ]
  },
  {
   "cell_type": "code",
   "execution_count": 24,
   "metadata": {
    "tags": []
   },
   "outputs": [
    {
     "name": "stdout",
     "output_type": "stream",
     "text": [
      "Animes closest to Shigatsu wa Kimi no Uso\n"
     ]
    },
    {
     "data": {
      "text/html": [
       "<div>\n",
       "<style scoped>\n",
       "    .dataframe tbody tr th:only-of-type {\n",
       "        vertical-align: middle;\n",
       "    }\n",
       "\n",
       "    .dataframe tbody tr th {\n",
       "        vertical-align: top;\n",
       "    }\n",
       "\n",
       "    .dataframe thead th {\n",
       "        text-align: right;\n",
       "    }\n",
       "</style>\n",
       "<table border=\"1\" class=\"dataframe\">\n",
       "  <thead>\n",
       "    <tr style=\"text-align: right;\">\n",
       "      <th></th>\n",
       "      <th>Name</th>\n",
       "      <th>Similarity</th>\n",
       "      <th>Genres</th>\n",
       "      <th>Synopsis</th>\n",
       "    </tr>\n",
       "  </thead>\n",
       "  <tbody>\n",
       "    <tr>\n",
       "      <th>4</th>\n",
       "      <td>∀ Gundam</td>\n",
       "      <td>36.17%</td>\n",
       "      <td>Action, Adventure, Award Winning, Drama, Romance, Sci-Fi</td>\n",
       "      <td>It is the Correct Century, two millennia after a devastating conflict which left the world broken. Earth is now mostly uninhabitable, and thus a remnant of humanity has resided on the Moon while the Earth and its few survivors recover. For years, the \"Moonrace,\" the people of the Moon, have continued to check if Earth is fit for resettlement.\\n\\nA boy named Rolan Cehack and two others are sent down to Earth for a reconnaissance mission. Rolan ends up spending a year on the planet working for the Heim Family, aristocrats living in a Victorian-like society. This family, like others of similar wealthy status, celebrates one's coming of age with a ceremony involving a giant stone statue known as the \"White Doll.\"\\n\\nTo Rolan's surprise, the Moonrace suddenly touches down on Earth with the intent of taking it by force. During the attack, the White Doll is broken apart, revealing a mobile suit called the \"Turn A Gundam\" inside. With Rolan in its cockpit, the Turn A causes a standoff between the forces of Earth and Moon. The young pilot, along with the people of both sides, must keep the peace and avoid another all-out, catastrophic war.</td>\n",
       "    </tr>\n",
       "    <tr>\n",
       "      <th>3</th>\n",
       "      <td>Detective Conan Magic File 2: Kudou Shinichi - The Case of the Mysterious Wall and the Black Lab</td>\n",
       "      <td>30.74%</td>\n",
       "      <td>Adventure, Comedy, Mystery</td>\n",
       "      <td>Magic File 2 was sold at select retailers (7-11 branded equivalents) in Japan, along with PPV episodes of the show (episodes released long before, such as the NY case). The first disc housed the Movie 12 Side-Story OVA, which features Kudou Shinichi and details a bit of the backstory from the upcoming movie. The second disc was the one with the PPV episodes.\\n\\n(Source: DCTP Forum)</td>\n",
       "    </tr>\n",
       "    <tr>\n",
       "      <th>2</th>\n",
       "      <td>Food Wars! The Fifth Plate</td>\n",
       "      <td>28.79%</td>\n",
       "      <td>Gourmet, Ecchi</td>\n",
       "      <td>Thanks to Souma Yukihira, Erina Nakiri, and the rebel forces overthrowing the regime of Azami Nakiri—the previous school director—and the former Elite Ten, Tootsuki Culinary Academy is back in order. However, its students have one more great battle ahead of them: the BLUE, a competition where young chefs seeking world-class fame compete. Faced with new trials and rivals, Souma and his friends will fight to conquer the BLUE and to defeat Asahi Saiba, the leader of an underworld organization of chefs known as Noir, who once defeated Souma and his father in a Shokugeki.</td>\n",
       "    </tr>\n",
       "    <tr>\n",
       "      <th>1</th>\n",
       "      <td>Koiito Kinenbi The Animation</td>\n",
       "      <td>27.47%</td>\n",
       "      <td>Hentai</td>\n",
       "      <td>Based on the manga by TakayaKi.\\n\\nA collection of short but sweet romantic stories with happy endings.</td>\n",
       "    </tr>\n",
       "    <tr>\n",
       "      <th>0</th>\n",
       "      <td>Ani*Kuri15</td>\n",
       "      <td>26.80%</td>\n",
       "      <td>Adventure, Comedy, Drama, Fantasy, Sci-Fi, Slice of Life, Supernatural</td>\n",
       "      <td>15 one-minute shorts created by various people from Japan's animation industry. The title of the collection, Ani*Kuri15, is abbreviated from the words \"anime\" and \"creators\".\\n\\nSeason One\\nShinji Kimura (Studio 4°C; Art Director, Steamboy) - title: Attack of Higashimachi Ni Chome/Attack of Higashimachi 2nd Burough\\nShōjirō Nishimi (Studio 4°C; Character Designer, Tekkonkinkreet) - Uchujin Raikou Hiroshi no Baai/Invasion from Space - Hiroshi's Case\\nAkemi Hayashi (Gainax; Character Designer, Fruits Basket) - Namida no Mukou/From the Other Side of the Tears\\nOsamu Kobayashi (Madhouse; Art/Mecha Desgin, Gungrave) - Sancha Blues/The Aromatic Tea Blues\\nYasufumi Soejima (Gonzo; 3D/CG Director, Last Exile) - Hyotoko/Blaze Man\\n\\nSeason Two\\nAtsushi Takeuchi (Production I.G; Mecha Design, Ghost in the Shell)\\nMamoru Oshii (Production I.G; Director, Ghost in the Shell) - Project Mermaid\\nKazuto Nakazawa (Studio 4°C; First Unit Director, Kill Bill Chapter 3: The Origin of O-Ren from Kill Bill: Volume 1) - \"yurururu\" ~Nichijou Hen~\\nRanji Murata (Gonzo; Character Design, Blue Submarine No. 6) and Tatsuya Yabuta (Gonzo; Story Design, Final Fantasy VII) - Gyrosopter\\nTobira Oda (Original Manga, Danchi Tomō) and Yasuyuki Shimizu (Key Animation, Naruto (movies)) (Studio 4°C)\\n\\nSeason Three\\nMichael Arias (Studio 4°C; Director, Tekkonkinkreet) - Okkakekko\\nMakoto Shinkai (Comix Wave Film; Director, The Place Promised in Our Early Days) - Neko no Shuukai/A Gathering of Cats\\nShōji Kawamori (Satelight; Director, The Super Dimension Fortress Macross: Do You Remember Love?) - Project Omega\\nMahiro Maeda (Gonzo; Director, Gankutsuou: The Count of Monte Cristo) - Onmitsu Hime\\nSatoshi Kon (Madhouse; Director, Paprika) - Ohayō/Good Morning</td>\n",
       "    </tr>\n",
       "  </tbody>\n",
       "</table>\n",
       "</div>"
      ],
      "text/plain": [
       "                                                                                               Name  \\\n",
       "4                                                                                          ∀ Gundam   \n",
       "3  Detective Conan Magic File 2: Kudou Shinichi - The Case of the Mysterious Wall and the Black Lab   \n",
       "2                                                                        Food Wars! The Fifth Plate   \n",
       "1                                                                      Koiito Kinenbi The Animation   \n",
       "0                                                                                        Ani*Kuri15   \n",
       "\n",
       "  Similarity  \\\n",
       "4     36.17%   \n",
       "3     30.74%   \n",
       "2     28.79%   \n",
       "1     27.47%   \n",
       "0     26.80%   \n",
       "\n",
       "                                                                   Genres  \\\n",
       "4                Action, Adventure, Award Winning, Drama, Romance, Sci-Fi   \n",
       "3                                              Adventure, Comedy, Mystery   \n",
       "2                                                          Gourmet, Ecchi   \n",
       "1                                                                  Hentai   \n",
       "0  Adventure, Comedy, Drama, Fantasy, Sci-Fi, Slice of Life, Supernatural   \n",
       "\n",
       "                                                                                                                                                                                                                                                                                                                                                                                                                                                                                                                                                                                                                                                                                                                                                                                                                                                                                                                                                                                                                                                                                                                                                                                                                                                                                                                                                                                                                                                                                                                                                                                                                                                                                                                                                                                                                Synopsis  \n",
       "4                                                                                                                                                                                                                                                                                                                                                                                                                                                                                                                                                                                                                           It is the Correct Century, two millennia after a devastating conflict which left the world broken. Earth is now mostly uninhabitable, and thus a remnant of humanity has resided on the Moon while the Earth and its few survivors recover. For years, the \"Moonrace,\" the people of the Moon, have continued to check if Earth is fit for resettlement.\\n\\nA boy named Rolan Cehack and two others are sent down to Earth for a reconnaissance mission. Rolan ends up spending a year on the planet working for the Heim Family, aristocrats living in a Victorian-like society. This family, like others of similar wealthy status, celebrates one's coming of age with a ceremony involving a giant stone statue known as the \"White Doll.\"\\n\\nTo Rolan's surprise, the Moonrace suddenly touches down on Earth with the intent of taking it by force. During the attack, the White Doll is broken apart, revealing a mobile suit called the \"Turn A Gundam\" inside. With Rolan in its cockpit, the Turn A causes a standoff between the forces of Earth and Moon. The young pilot, along with the people of both sides, must keep the peace and avoid another all-out, catastrophic war.  \n",
       "3                                                                                                                                                                                                                                                                                                                                                                                                                                                                                                                                                                                                                                                                                                                                                                                                                                                                                                                                                                                                                                                                                                                                                                                                                                                                                                                                                                                                                       Magic File 2 was sold at select retailers (7-11 branded equivalents) in Japan, along with PPV episodes of the show (episodes released long before, such as the NY case). The first disc housed the Movie 12 Side-Story OVA, which features Kudou Shinichi and details a bit of the backstory from the upcoming movie. The second disc was the one with the PPV episodes.\\n\\n(Source: DCTP Forum)  \n",
       "2                                                                                                                                                                                                                                                                                                                                                                                                                                                                                                                                                                                                                                                                                                                                                                                                                                                                                                                                                                                                                                                                                                                                                                                                                          Thanks to Souma Yukihira, Erina Nakiri, and the rebel forces overthrowing the regime of Azami Nakiri—the previous school director—and the former Elite Ten, Tootsuki Culinary Academy is back in order. However, its students have one more great battle ahead of them: the BLUE, a competition where young chefs seeking world-class fame compete. Faced with new trials and rivals, Souma and his friends will fight to conquer the BLUE and to defeat Asahi Saiba, the leader of an underworld organization of chefs known as Noir, who once defeated Souma and his father in a Shokugeki.  \n",
       "1                                                                                                                                                                                                                                                                                                                                                                                                                                                                                                                                                                                                                                                                                                                                                                                                                                                                                                                                                                                                                                                                                                                                                                                                                                                                                                                                                                                                                                                                                                                                                                                                                                                                                                                Based on the manga by TakayaKi.\\n\\nA collection of short but sweet romantic stories with happy endings.  \n",
       "0  15 one-minute shorts created by various people from Japan's animation industry. The title of the collection, Ani*Kuri15, is abbreviated from the words \"anime\" and \"creators\".\\n\\nSeason One\\nShinji Kimura (Studio 4°C; Art Director, Steamboy) - title: Attack of Higashimachi Ni Chome/Attack of Higashimachi 2nd Burough\\nShōjirō Nishimi (Studio 4°C; Character Designer, Tekkonkinkreet) - Uchujin Raikou Hiroshi no Baai/Invasion from Space - Hiroshi's Case\\nAkemi Hayashi (Gainax; Character Designer, Fruits Basket) - Namida no Mukou/From the Other Side of the Tears\\nOsamu Kobayashi (Madhouse; Art/Mecha Desgin, Gungrave) - Sancha Blues/The Aromatic Tea Blues\\nYasufumi Soejima (Gonzo; 3D/CG Director, Last Exile) - Hyotoko/Blaze Man\\n\\nSeason Two\\nAtsushi Takeuchi (Production I.G; Mecha Design, Ghost in the Shell)\\nMamoru Oshii (Production I.G; Director, Ghost in the Shell) - Project Mermaid\\nKazuto Nakazawa (Studio 4°C; First Unit Director, Kill Bill Chapter 3: The Origin of O-Ren from Kill Bill: Volume 1) - \"yurururu\" ~Nichijou Hen~\\nRanji Murata (Gonzo; Character Design, Blue Submarine No. 6) and Tatsuya Yabuta (Gonzo; Story Design, Final Fantasy VII) - Gyrosopter\\nTobira Oda (Original Manga, Danchi Tomō) and Yasuyuki Shimizu (Key Animation, Naruto (movies)) (Studio 4°C)\\n\\nSeason Three\\nMichael Arias (Studio 4°C; Director, Tekkonkinkreet) - Okkakekko\\nMakoto Shinkai (Comix Wave Film; Director, The Place Promised in Our Early Days) - Neko no Shuukai/A Gathering of Cats\\nShōji Kawamori (Satelight; Director, The Super Dimension Fortress Macross: Do You Remember Love?) - Project Omega\\nMahiro Maeda (Gonzo; Director, Gankutsuou: The Count of Monte Cristo) - Onmitsu Hime\\nSatoshi Kon (Madhouse; Director, Paprika) - Ohayō/Good Morning  "
      ]
     },
     "execution_count": 24,
     "metadata": {},
     "output_type": "execute_result"
    }
   ],
   "source": [
    "find_similar_animes('Shigatsu wa Kimi no Uso', n=5, neg=False) # Your Lie in April"
   ]
  },
  {
   "cell_type": "code",
   "execution_count": 25,
   "metadata": {
    "tags": []
   },
   "outputs": [
    {
     "name": "stdout",
     "output_type": "stream",
     "text": [
      "Animes closest to One Punch Man\n"
     ]
    },
    {
     "data": {
      "text/html": [
       "<div>\n",
       "<style scoped>\n",
       "    .dataframe tbody tr th:only-of-type {\n",
       "        vertical-align: middle;\n",
       "    }\n",
       "\n",
       "    .dataframe tbody tr th {\n",
       "        vertical-align: top;\n",
       "    }\n",
       "\n",
       "    .dataframe thead th {\n",
       "        text-align: right;\n",
       "    }\n",
       "</style>\n",
       "<table border=\"1\" class=\"dataframe\">\n",
       "  <thead>\n",
       "    <tr style=\"text-align: right;\">\n",
       "      <th></th>\n",
       "      <th>Name</th>\n",
       "      <th>Similarity</th>\n",
       "      <th>Genres</th>\n",
       "      <th>Synopsis</th>\n",
       "    </tr>\n",
       "  </thead>\n",
       "  <tbody>\n",
       "    <tr>\n",
       "      <th>4</th>\n",
       "      <td>Humanity Has Declined</td>\n",
       "      <td>30.21%</td>\n",
       "      <td>Adventure, Comedy, Fantasy</td>\n",
       "      <td>Because of the constantly declining birth rates over many decades, human civilization is all but extinct. With only a few humans remaining, they survive in this post-apocalyptic world with what was left behind by the previous generations. Earth is now dominated by fairies, tiny creatures with extremely advanced technology, an obsession with candy, and a complete disregard for human safety. \\n\\nA young girl who has just finished her studies returns to her hometown and is designated as an official United Nations arbitrator. Her duty is to serve as a link between mankind and fairies, reassuring each side that both races can live together peacefully. She imagines this task will be easy enough, but controlling the disasters created by the oblivious fairies in their pursuit of candy will require a lot more effort than she initially believes.</td>\n",
       "    </tr>\n",
       "    <tr>\n",
       "      <th>3</th>\n",
       "      <td>Starry☆Sky</td>\n",
       "      <td>30.18%</td>\n",
       "      <td>UNKNOWN</td>\n",
       "      <td>Formerly an all-boys school, Seigetsu Academy is now a co-ed institution that hones its students' knowledge in astronomy. In this regard, Tsukiko Yahisa enrolls as the first and only female student in the academy. By her side are her childhood best friends, Kanata Nanami and Suzuya Touzuki, who shield her from the advances of the student body. As Tsukiko learns to navigate her new environment, she encounters 13 distinct boys who are based on the Western zodiac star signs. Eventually, Tsukiko's involvement with these boys drags her deeper into star-crossed routes that will entangle her in numerous affairs.</td>\n",
       "    </tr>\n",
       "    <tr>\n",
       "      <th>2</th>\n",
       "      <td>Dragon Age: Dawn of the Seeker</td>\n",
       "      <td>28.63%</td>\n",
       "      <td>Action, Fantasy</td>\n",
       "      <td>In a time of darkness and barbarism, the Chantry has arisen - a religious order seeking to bring stability to a world corrupted by sinister magic. Led by the Divine, the Chantry's Templar warriors ruthlessly restrain the Mages and their magical cabals. But when the Templars fail, the most elite order of the Chantry takes charge - the Seekers!\\n\\n(Source: AniDB)</td>\n",
       "    </tr>\n",
       "    <tr>\n",
       "      <th>1</th>\n",
       "      <td>Prison School: Mad Wax</td>\n",
       "      <td>28.10%</td>\n",
       "      <td>Comedy, Romance, Ecchi</td>\n",
       "      <td>Hachimitsu Private Academy's five male students have been released from their oppressive prison captors, allowing them to return to their ideal school lives surrounded by short-skirted girls.\\n\\nWith their freedom restored, things could not be going better for the gang. Kiyoshi Fujino and Shingo Wakamoto have formed close bonds with their female classmates; Reiji Andou is the center of attention due to his masochistic quirks; and even Takehito \"Gakuto\" Morokuzu—notorious for defecating himself during class—befriends the klutzy yet like-minded Mitsuko Yokoyama. \\n\\nHowever, in contrast to his fellow ex-convicts, Jouji \"Joe\" Nezu struggles to readjust to student life, and the unlikely romantic success of his friend Gakuto pushes him to his wit's end. Feeling ostracized, he begins to wonder if life was better behind bars.</td>\n",
       "    </tr>\n",
       "    <tr>\n",
       "      <th>0</th>\n",
       "      <td>Bloods: Inraku no Ketsuzoku 2</td>\n",
       "      <td>27.71%</td>\n",
       "      <td>Hentai</td>\n",
       "      <td>The Sagimiya family is cursed in that its members are sexually aroused in the presence of another of the same bloodline. Sagimiya Misaki and her elder twin, Shun, are both disgusted over this and have sworn to resist the calling of their blood. However, Shun loses his composure and goes to their elder sister, Kagu, for release. After Misaki finds out, she too loses her resolve and seeks out Shun.\\n\\n(Source: ANN)</td>\n",
       "    </tr>\n",
       "  </tbody>\n",
       "</table>\n",
       "</div>"
      ],
      "text/plain": [
       "                             Name Similarity                      Genres  \\\n",
       "4           Humanity Has Declined     30.21%  Adventure, Comedy, Fantasy   \n",
       "3                      Starry☆Sky     30.18%                     UNKNOWN   \n",
       "2  Dragon Age: Dawn of the Seeker     28.63%             Action, Fantasy   \n",
       "1          Prison School: Mad Wax     28.10%      Comedy, Romance, Ecchi   \n",
       "0   Bloods: Inraku no Ketsuzoku 2     27.71%                      Hentai   \n",
       "\n",
       "                                                                                                                                                                                                                                                                                                                                                                                                                                                                                                                                                                                                                                                                                                                                                                                                                                                                          Synopsis  \n",
       "4  Because of the constantly declining birth rates over many decades, human civilization is all but extinct. With only a few humans remaining, they survive in this post-apocalyptic world with what was left behind by the previous generations. Earth is now dominated by fairies, tiny creatures with extremely advanced technology, an obsession with candy, and a complete disregard for human safety. \\n\\nA young girl who has just finished her studies returns to her hometown and is designated as an official United Nations arbitrator. Her duty is to serve as a link between mankind and fairies, reassuring each side that both races can live together peacefully. She imagines this task will be easy enough, but controlling the disasters created by the oblivious fairies in their pursuit of candy will require a lot more effort than she initially believes.  \n",
       "3                                                                                                                                                                                                                                             Formerly an all-boys school, Seigetsu Academy is now a co-ed institution that hones its students' knowledge in astronomy. In this regard, Tsukiko Yahisa enrolls as the first and only female student in the academy. By her side are her childhood best friends, Kanata Nanami and Suzuya Touzuki, who shield her from the advances of the student body. As Tsukiko learns to navigate her new environment, she encounters 13 distinct boys who are based on the Western zodiac star signs. Eventually, Tsukiko's involvement with these boys drags her deeper into star-crossed routes that will entangle her in numerous affairs.  \n",
       "2                                                                                                                                                                                                                                                                                                                                                                                                                                                                                                      In a time of darkness and barbarism, the Chantry has arisen - a religious order seeking to bring stability to a world corrupted by sinister magic. Led by the Divine, the Chantry's Templar warriors ruthlessly restrain the Mages and their magical cabals. But when the Templars fail, the most elite order of the Chantry takes charge - the Seekers!\\n\\n(Source: AniDB)  \n",
       "1                   Hachimitsu Private Academy's five male students have been released from their oppressive prison captors, allowing them to return to their ideal school lives surrounded by short-skirted girls.\\n\\nWith their freedom restored, things could not be going better for the gang. Kiyoshi Fujino and Shingo Wakamoto have formed close bonds with their female classmates; Reiji Andou is the center of attention due to his masochistic quirks; and even Takehito \"Gakuto\" Morokuzu—notorious for defecating himself during class—befriends the klutzy yet like-minded Mitsuko Yokoyama. \\n\\nHowever, in contrast to his fellow ex-convicts, Jouji \"Joe\" Nezu struggles to readjust to student life, and the unlikely romantic success of his friend Gakuto pushes him to his wit's end. Feeling ostracized, he begins to wonder if life was better behind bars.  \n",
       "0                                                                                                                                                                                                                                                                                                                                                                                                                                                 The Sagimiya family is cursed in that its members are sexually aroused in the presence of another of the same bloodline. Sagimiya Misaki and her elder twin, Shun, are both disgusted over this and have sworn to resist the calling of their blood. However, Shun loses his composure and goes to their elder sister, Kagu, for release. After Misaki finds out, she too loses her resolve and seeks out Shun.\\n\\n(Source: ANN)  "
      ]
     },
     "execution_count": 25,
     "metadata": {},
     "output_type": "execute_result"
    }
   ],
   "source": [
    "find_similar_animes('One Punch Man', n=5, neg=False)"
   ]
  },
  {
   "cell_type": "code",
   "execution_count": 26,
   "metadata": {
    "tags": []
   },
   "outputs": [
    {
     "name": "stdout",
     "output_type": "stream",
     "text": [
      "Animes closest to Mushoku Tensei: Isekai Ittara Honki Dasu\n"
     ]
    },
    {
     "data": {
      "text/html": [
       "<div>\n",
       "<style scoped>\n",
       "    .dataframe tbody tr th:only-of-type {\n",
       "        vertical-align: middle;\n",
       "    }\n",
       "\n",
       "    .dataframe tbody tr th {\n",
       "        vertical-align: top;\n",
       "    }\n",
       "\n",
       "    .dataframe thead th {\n",
       "        text-align: right;\n",
       "    }\n",
       "</style>\n",
       "<table border=\"1\" class=\"dataframe\">\n",
       "  <thead>\n",
       "    <tr style=\"text-align: right;\">\n",
       "      <th></th>\n",
       "      <th>Name</th>\n",
       "      <th>Similarity</th>\n",
       "      <th>Genres</th>\n",
       "      <th>Synopsis</th>\n",
       "    </tr>\n",
       "  </thead>\n",
       "  <tbody>\n",
       "    <tr>\n",
       "      <th>4</th>\n",
       "      <td>Lupin III: Harimao no Zaihou wo Oe!!</td>\n",
       "      <td>30.72%</td>\n",
       "      <td>Action, Adventure, Comedy, Mystery</td>\n",
       "      <td>Lupin's on the trail of a decades-lost treasure—the collected booty of World-War-II-era thief Harimao—worth billions of dollars. But as he plans to con retired British spy Sir Archer into giving up the location of the stash, Archer himself gets into the hunt. Lupin now has to team up with his former mark to outwit a more sinister opponent who wants the treasure for himself. And of course, Zenigata's on the scent and gunning for the gang once again.\\n\\n(Source: ANN)</td>\n",
       "    </tr>\n",
       "    <tr>\n",
       "      <th>3</th>\n",
       "      <td>Arad Senki: Slap Up Party</td>\n",
       "      <td>28.99%</td>\n",
       "      <td>Action, Adventure, Comedy, Fantasy</td>\n",
       "      <td>The anime will follow the adventures of Baron, a man living on continent of Arad in the year 981 after \"the cursed light of Kazan\" has fallen across the land. Thanks to the curse, one of his arms has become possessed. After finding a sword that has been possessed by the spirit Roxy, he embarks on a quest to unravel the secret of the curse and meets various people who also join his party.\\n\\n(Source: ANN)</td>\n",
       "    </tr>\n",
       "    <tr>\n",
       "      <th>2</th>\n",
       "      <td>Ganbare Genki</td>\n",
       "      <td>28.45%</td>\n",
       "      <td>Action, Comedy, Sports</td>\n",
       "      <td>Horiguchi Genki was 5 years old boy. His mother died when he was born, and he was raised only by his father. His father, Shark Horiguchi, was a professional boxer, but he was ruined and become an itinerant boxer. However, Genki believed his father was strong and he would become a champion, and he had a dream to become a strong boxer as his father. \\nAfter his father’s death, he was adopted by his grandparents. Although they opposed Genki boxing, Genki made up his mind to become a boxer, and he continued training secretly. Meeting with various people, for example, Teacher Ashikiwa who resembles his mother, Mishima who is a high school boxing champion, he made his way to be a boxer. \\n\\n(Source: AnimeNfo)</td>\n",
       "    </tr>\n",
       "    <tr>\n",
       "      <th>1</th>\n",
       "      <td>Black Bullet</td>\n",
       "      <td>28.27%</td>\n",
       "      <td>Action, Mystery, Sci-Fi</td>\n",
       "      <td>In the year 2021, a parasitic virus known as \"Gastrea\" infects humans and turns them into monsters. What is left of mankind now lives within the Monolith walls, walls that are made of Varanium, the only material that can hurt Gastrea.\\n\\nTo counter the threat that the Gastrea pose, \"Cursed Children\"—female children whose bodies contain trace amounts of the virus which grant them superhuman abilities—officially called Initiators by the Tendo Civil Security, are given partners called Promoters, people who work to guide and protect the young Initiators. These teams of two are sent out on missions to fight the monsters created by the Gastrea virus and keep them at bay. \\n\\nBlack Bullet revolves around the team of Enju Aihara, an Initiator, and Satomi Rentaro, a Promoter, as they go on missions to fight the growing threat of Gastrea in their hometown of Tokyo.</td>\n",
       "    </tr>\n",
       "    <tr>\n",
       "      <th>0</th>\n",
       "      <td>The Silver Guardian</td>\n",
       "      <td>27.38%</td>\n",
       "      <td>Adventure, Fantasy</td>\n",
       "      <td>High school student and gamer Suigin Riku attends the prestigious Shinryou Private Academy, a school for the elite and the children of the wealthy. But rich or wealthy are not words that describe Suigin; in fact, he is dirt poor and must work many part time jobs to pay for his tuition. During one such job, he dives into a pool to save his pet cat, fully aware that he cannot swim. Luckily, he is saved by Rei Riku, the beautiful and popular daughter of a game developer, and he falls in love with her.\\n\\nHe is also drawn to another girl: a new friend he meets in Dungeon Century, his favorite online RPG. But when the game is scheduled to shut down, he knows his adventures with her will soon end. However, the day after the game is shut down, he finds out that Rei and the online girl are one and the same. Soon after, Rei gives Suigin a new game meant to replace Dungeon Century—a tomb raiding game called Grave Buster. But when Rei is suddenly kidnapped, Suigin is pulled inside Grave Buster to save her.\\n\\nGin no Guardian follows Suigin as he plays through Grave Buster to save Rei, while uncovering the secrets hidden within the game.</td>\n",
       "    </tr>\n",
       "  </tbody>\n",
       "</table>\n",
       "</div>"
      ],
      "text/plain": [
       "                                   Name Similarity  \\\n",
       "4  Lupin III: Harimao no Zaihou wo Oe!!     30.72%   \n",
       "3             Arad Senki: Slap Up Party     28.99%   \n",
       "2                         Ganbare Genki     28.45%   \n",
       "1                          Black Bullet     28.27%   \n",
       "0                   The Silver Guardian     27.38%   \n",
       "\n",
       "                               Genres  \\\n",
       "4  Action, Adventure, Comedy, Mystery   \n",
       "3  Action, Adventure, Comedy, Fantasy   \n",
       "2              Action, Comedy, Sports   \n",
       "1             Action, Mystery, Sci-Fi   \n",
       "0                  Adventure, Fantasy   \n",
       "\n",
       "                                                                                                                                                                                                                                                                                                                                                                                                                                                                                                                                                                                                                                                                                                                                                                                                                                                                                                                                                                                                                                                                                                                                                                                  Synopsis  \n",
       "4                                                                                                                                                                                                                                                                                                                                                                                                                                                                                                                                                                                                                                                                                                    Lupin's on the trail of a decades-lost treasure—the collected booty of World-War-II-era thief Harimao—worth billions of dollars. But as he plans to con retired British spy Sir Archer into giving up the location of the stash, Archer himself gets into the hunt. Lupin now has to team up with his former mark to outwit a more sinister opponent who wants the treasure for himself. And of course, Zenigata's on the scent and gunning for the gang once again.\\n\\n(Source: ANN)  \n",
       "3                                                                                                                                                                                                                                                                                                                                                                                                                                                                                                                                                                                                                                                                                                                                                                  The anime will follow the adventures of Baron, a man living on continent of Arad in the year 981 after \"the cursed light of Kazan\" has fallen across the land. Thanks to the curse, one of his arms has become possessed. After finding a sword that has been possessed by the spirit Roxy, he embarks on a quest to unravel the secret of the curse and meets various people who also join his party.\\n\\n(Source: ANN)  \n",
       "2                                                                                                                                                                                                                                                                                                                                                                                                                                                 Horiguchi Genki was 5 years old boy. His mother died when he was born, and he was raised only by his father. His father, Shark Horiguchi, was a professional boxer, but he was ruined and become an itinerant boxer. However, Genki believed his father was strong and he would become a champion, and he had a dream to become a strong boxer as his father. \\nAfter his father’s death, he was adopted by his grandparents. Although they opposed Genki boxing, Genki made up his mind to become a boxer, and he continued training secretly. Meeting with various people, for example, Teacher Ashikiwa who resembles his mother, Mishima who is a high school boxing champion, he made his way to be a boxer. \\n\\n(Source: AnimeNfo)  \n",
       "1                                                                                                                                                                                                                                                                                      In the year 2021, a parasitic virus known as \"Gastrea\" infects humans and turns them into monsters. What is left of mankind now lives within the Monolith walls, walls that are made of Varanium, the only material that can hurt Gastrea.\\n\\nTo counter the threat that the Gastrea pose, \"Cursed Children\"—female children whose bodies contain trace amounts of the virus which grant them superhuman abilities—officially called Initiators by the Tendo Civil Security, are given partners called Promoters, people who work to guide and protect the young Initiators. These teams of two are sent out on missions to fight the monsters created by the Gastrea virus and keep them at bay. \\n\\nBlack Bullet revolves around the team of Enju Aihara, an Initiator, and Satomi Rentaro, a Promoter, as they go on missions to fight the growing threat of Gastrea in their hometown of Tokyo.  \n",
       "0  High school student and gamer Suigin Riku attends the prestigious Shinryou Private Academy, a school for the elite and the children of the wealthy. But rich or wealthy are not words that describe Suigin; in fact, he is dirt poor and must work many part time jobs to pay for his tuition. During one such job, he dives into a pool to save his pet cat, fully aware that he cannot swim. Luckily, he is saved by Rei Riku, the beautiful and popular daughter of a game developer, and he falls in love with her.\\n\\nHe is also drawn to another girl: a new friend he meets in Dungeon Century, his favorite online RPG. But when the game is scheduled to shut down, he knows his adventures with her will soon end. However, the day after the game is shut down, he finds out that Rei and the online girl are one and the same. Soon after, Rei gives Suigin a new game meant to replace Dungeon Century—a tomb raiding game called Grave Buster. But when Rei is suddenly kidnapped, Suigin is pulled inside Grave Buster to save her.\\n\\nGin no Guardian follows Suigin as he plays through Grave Buster to save Rei, while uncovering the secrets hidden within the game.  "
      ]
     },
     "execution_count": 26,
     "metadata": {},
     "output_type": "execute_result"
    }
   ],
   "source": [
    "find_similar_animes('Mushoku Tensei: Isekai Ittara Honki Dasu', n=5, neg=False)"
   ]
  },
  {
   "cell_type": "markdown",
   "metadata": {},
   "source": [
    "<div style=\"background-color:#FFFFFF; border-left:15px solid #AF7AC5; padding:20px; margin-bottom:20px; border-radius:8px;\">\n",
    "\n",
    "<h2 style=\"color:#AF7AC5;\">2: User Based Recommendation</h2>\n",
    "\n",
    "<p style=\"font-size:14px; font-family: 'Arial', sans-serif; color:#7D3C98;\">\n",
    "Our User-Based Recommendation system focuses on finding users with similar anime preferences and making recommendations based on these similarities. The process is divided into the following parts:\n",
    "\n",
    "<h3 style=\"color:#AF7AC5;\">Part 1: Finding Similar Users</h3>\n",
    "<p style=\"color:#7D3C98;\">\n",
    "In this initial phase, we aim to identify users whose anime preferences align closely with a given user. The process involves:\n",
    "<ul>\n",
    "  <li>Selecting a random user from our dataset, especially those with fewer than 500 ratings to ensure a diverse selection.</li>\n",
    "  <li>Utilizing the <code>find_similar_users</code> function, which calculates the similarity between users based on their anime interactions. This function employs a weighted matrix to determine similarity, considering factors such as the number of similar animes watched.</li>\n",
    "  <li>The function returns a DataFrame listing users most similar to the chosen user, ranked by their similarity scores.</li>\n",
    "  <li>Additional filters are applied to refine the selection, ensuring that the similarities are significant (e.g., above a certain threshold) and that the similar users are distinct from the input user.</li>\n",
    "</ul>\n",
    "Through this approach, we can identify users with similar viewing patterns and preferences, forming the basis for the next steps in the recommendation process.\n",
    "</p>\n",
    "\n",
    "</div>\n"
   ]
  },
  {
   "cell_type": "code",
   "execution_count": 27,
   "metadata": {
    "tags": []
   },
   "outputs": [],
   "source": [
    "def find_similar_users(item_input, n=10, return_dist=False, neg=False):\n",
    "    try:\n",
    "        index = item_input\n",
    "        encoded_index = user_encoder.transform([index])[0]\n",
    "        weights = user_weights\n",
    "        dists = np.dot(weights, weights[encoded_index])\n",
    "        sorted_dists = np.argsort(dists)\n",
    "        n = n + 1\n",
    "        \n",
    "        if neg:\n",
    "            closest = sorted_dists[:n]\n",
    "        else:\n",
    "            closest = sorted_dists[-n:]\n",
    "            \n",
    "        SimilarityArr = []\n",
    "        \n",
    "        for close in closest:\n",
    "            similarity = dists[close]\n",
    "            if isinstance(item_input, int):\n",
    "                decoded_id = user_encoder.inverse_transform([close])[0]\n",
    "                SimilarityArr.append({\"similar_users\": decoded_id, \"similarity\": similarity})\n",
    "        Frame = pd.DataFrame(SimilarityArr).sort_values(by=\"similarity\", ascending=False)\n",
    "        return Frame\n",
    "    except:\n",
    "        print('\\033[1m{}\\033[0m, Not Found in User list'.format(item_input))"
   ]
  },
  {
   "cell_type": "code",
   "execution_count": 28,
   "metadata": {
    "tags": []
   },
   "outputs": [
    {
     "data": {
      "text/html": [
       "<div>\n",
       "<style scoped>\n",
       "    .dataframe tbody tr th:only-of-type {\n",
       "        vertical-align: middle;\n",
       "    }\n",
       "\n",
       "    .dataframe tbody tr th {\n",
       "        vertical-align: top;\n",
       "    }\n",
       "\n",
       "    .dataframe thead th {\n",
       "        text-align: right;\n",
       "    }\n",
       "</style>\n",
       "<table border=\"1\" class=\"dataframe\">\n",
       "  <thead>\n",
       "    <tr style=\"text-align: right;\">\n",
       "      <th></th>\n",
       "      <th>similar_users</th>\n",
       "      <th>similarity</th>\n",
       "    </tr>\n",
       "  </thead>\n",
       "  <tbody>\n",
       "    <tr>\n",
       "      <th>9</th>\n",
       "      <td>89346</td>\n",
       "      <td>0.400286</td>\n",
       "    </tr>\n",
       "  </tbody>\n",
       "</table>\n",
       "</div>"
      ],
      "text/plain": [
       "   similar_users  similarity\n",
       "9          89346    0.400286"
      ]
     },
     "execution_count": 28,
     "metadata": {},
     "output_type": "execute_result"
    }
   ],
   "source": [
    "# Select a random user\n",
    "ratings_per_user = df.groupby('user_id').size()\n",
    "random_user = int(ratings_per_user[ratings_per_user < 500].sample(1, random_state=None).index[0])\n",
    "\n",
    "# Find similar users to the random user\n",
    "similar_users = find_similar_users(random_user, n=10, neg=False)\n",
    "similar_users = similar_users[similar_users.similarity > 0.4]\n",
    "similar_users = similar_users[similar_users.similar_users != random_user]\n",
    "similar_users"
   ]
  },
  {
   "cell_type": "markdown",
   "metadata": {},
   "source": [
    "<div style=\"background-color:#FFFFFF; border-left:15px solid #F5B041; padding:20px; margin-bottom:20px; border-radius:8px;\">\n",
    "\n",
    "<h2 style=\"color:#F5B041;\">Part 2: User Preferences</h2>\n",
    "\n",
    "<p style=\"font-size:14px; font-family: 'Arial', sans-serif; color:#D35400;\">\n",
    "In this segment of our User-Based Recommendation system, we delve into the specific preferences of individual users. The focus is on understanding the types of animes a user favors, particularly in terms of genres. This is accomplished through the following steps:\n",
    "<ul style=\"color:#D35400;\">\n",
    "  <li><b>Function - get_user_preferences:</b> This function takes a user ID as input and identifies the animes watched by this user, focusing particularly on those with high ratings. It helps in discerning the user's preferred anime titles and the genres they are inclined towards.</li>\n",
    "  <li><b>Top Rated Animes:</b> The function filters the animes watched by the user based on their ratings, particularly selecting those in the higher percentile (indicative of preference).</li>\n",
    "  <li><b>Genre Analysis:</b> A crucial aspect of understanding user preferences is analyzing the genres of these top-rated animes. This analysis gives insights into the types of content that resonate most with the user.</li>\n",
    "  <li><b>Visualizing Preferences:</b> Optionally, the function provides a way to visualize these preferences through a word cloud, offering a graphic representation of the most favored genres. The <code>showWordCloud</code> function generates this visualization, enhancing the interpretability of the user's preferences.</li>\n",
    "</ul>\n",
    "By executing this process, we gain a nuanced understanding of what a user enjoys, allowing for more personalized and targeted anime recommendations based on their specific likes and viewing history.\n",
    "</p>\n",
    "\n",
    "</div>\n"
   ]
  },
  {
   "cell_type": "code",
   "execution_count": 29,
   "metadata": {
    "tags": []
   },
   "outputs": [],
   "source": [
    "# Function to display a word cloud of preferred genres\n",
    "def showWordCloud(all_genres):\n",
    "    genres_cloud = WordCloud(width=700, height=400, background_color='white', colormap='gnuplot').generate_from_frequencies(all_genres)\n",
    "    plt.figure(figsize=(10, 8))\n",
    "    plt.imshow(genres_cloud, interpolation='bilinear')\n",
    "    plt.axis('off')\n",
    "    plt.show()\n",
    "\n",
    "def get_user_preferences(user_id, plot=False, verbose=0):\n",
    "    animes_watched_by_user = df[df['user_id'] == user_id]\n",
    "    \n",
    "    if animes_watched_by_user.empty:\n",
    "        print(\"User #{} has not watched any animes.\".format(user_id))\n",
    "        return pd.DataFrame()\n",
    "    \n",
    "    user_rating_percentile = np.percentile(animes_watched_by_user.rating, 75)\n",
    "    animes_watched_by_user = animes_watched_by_user[animes_watched_by_user.rating >= user_rating_percentile]\n",
    "    top_animes_user = (\n",
    "        animes_watched_by_user.sort_values(by=\"rating\", ascending=False)\n",
    "        .anime_id.values\n",
    "    )\n",
    "    \n",
    "    anime_df_rows = df_anime[df_anime[\"anime_id\"].isin(top_animes_user)]\n",
    "    anime_df_rows = anime_df_rows[[\"Name\", \"Genres\"]]\n",
    "    \n",
    "    if verbose != 0:\n",
    "        print(\"User \\033[1m{}\\033[0m has watched {} anime(s) with an average rating of {:.1f}/10\\n\".format(\n",
    "            user_id, len(animes_watched_by_user), animes_watched_by_user['rating'].mean()\n",
    "        ))\n",
    "        print('\\033[1m----- Preferred genres----- \\033[0m\\n')\n",
    "\n",
    "    if plot:\n",
    "        genres_list = []\n",
    "        for genres in anime_df_rows['Genres']:\n",
    "            if isinstance(genres, str):\n",
    "                for genre in genres.split(','):\n",
    "                    genres_list.append(genre.strip())\n",
    "\n",
    "        showWordCloud(dict(Counter(genres_list)))\n",
    "    \n",
    "    return anime_df_rows"
   ]
  },
  {
   "cell_type": "code",
   "execution_count": 30,
   "metadata": {
    "tags": []
   },
   "outputs": [
    {
     "name": "stdout",
     "output_type": "stream",
     "text": [
      "User \u001b[1m28511\u001b[0m has watched 1 anime(s) with an average rating of 6.0/10\n",
      "\n",
      "\u001b[1m----- Preferred genres----- \u001b[0m\n",
      "\n"
     ]
    },
    {
     "data": {
      "image/png": "[encoded data removed]",
      "text/plain": [
       "<Figure size 1000x800 with 1 Axes>"
      ]
     },
     "metadata": {},
     "output_type": "display_data"
    },
    {
     "data": {
      "text/html": [
       "<div>\n",
       "<style scoped>\n",
       "    .dataframe tbody tr th:only-of-type {\n",
       "        vertical-align: middle;\n",
       "    }\n",
       "\n",
       "    .dataframe tbody tr th {\n",
       "        vertical-align: top;\n",
       "    }\n",
       "\n",
       "    .dataframe thead th {\n",
       "        text-align: right;\n",
       "    }\n",
       "</style>\n",
       "<table border=\"1\" class=\"dataframe\">\n",
       "  <thead>\n",
       "    <tr style=\"text-align: right;\">\n",
       "      <th></th>\n",
       "      <th>Name</th>\n",
       "      <th>Genres</th>\n",
       "    </tr>\n",
       "  </thead>\n",
       "  <tbody>\n",
       "    <tr>\n",
       "      <th>182</th>\n",
       "      <td>Samurai Champloo</td>\n",
       "      <td>Action, Adventure, Comedy</td>\n",
       "    </tr>\n",
       "  </tbody>\n",
       "</table>\n",
       "</div>"
      ],
      "text/plain": [
       "                 Name                     Genres\n",
       "182  Samurai Champloo  Action, Adventure, Comedy"
      ]
     },
     "execution_count": 30,
     "metadata": {},
     "output_type": "execute_result"
    }
   ],
   "source": [
    "# Get user preferences for the random user\n",
    "user_pref = get_user_preferences(random_user, plot=True, verbose=1)\n",
    "pd.DataFrame(user_pref).head(5)"
   ]
  },
  {
   "cell_type": "markdown",
   "metadata": {
    "tags": []
   },
   "source": [
    "<div style=\"background-color:#FFFFFF; border-left:15px solid #5D6D7E; padding:20px; margin-bottom:20px; border-radius:8px;\">\n",
    "\n",
    "<h2 style=\"color:#5D6D7E;\">Part 3: Recommending Animes for a User</h2>\n",
    "\n",
    "<p style=\"font-size:14px; font-family: 'Arial', sans-serif; color:#34495E;\">\n",
    "The final stage of our User-Based Recommendation system focuses on generating personalized anime recommendations for a specific user. This process leverages the preferences of users similar to the target user, following these key steps:\n",
    "<ul style=\"color:#34495E;\">\n",
    "  <li><b>Function - get_recommended_animes:</b> This function plays a pivotal role. It iterates through the list of users similar to the selected user and extracts their anime preferences.</li>\n",
    "  <li><b>Identifying Unique Recommendations:</b> The function then compares these preferences against the animes already watched by the selected user. It identifies animes favored by similar users but not yet watched by the target user, avoiding redundant recommendations.</li>\n",
    "  <li><b>Generating Recommendations:</b> Based on this comparison, a list of recommended animes is generated. This list includes the anime titles along with their genres and a brief synopsis, offering a comprehensive view of each recommendation.</li>\n",
    "  <li><b>Output:</b> The final output is a DataFrame containing these recommendations, tailored to match the user's preferences as closely as possible, based on the viewing patterns of similar users.</li>\n",
    "</ul>\n",
    "By applying this method, we ensure that the recommended animes resonate with the user's taste, reflecting not only their preferences but also introducing them to new titles that similar users have appreciated.\n",
    "</p>\n",
    "\n",
    "</div>\n"
   ]
  },
  {
   "cell_type": "code",
   "execution_count": 31,
   "metadata": {
    "tags": []
   },
   "outputs": [],
   "source": [
    "def get_recommended_animes(similar_users, user_pref, n=10):\n",
    "    recommended_animes = []\n",
    "    anime_list = []\n",
    "    \n",
    "    for user_id in similar_users.similar_users.values:\n",
    "        pref_list = get_user_preferences(int(user_id))\n",
    "        if not pref_list.empty:  # Check if user has watched any animes\n",
    "            pref_list = pref_list[~pref_list[\"Name\"].isin(user_pref[\"Name\"].values)]\n",
    "            anime_list.append(pref_list.Name.values)\n",
    "            \n",
    "    if len(anime_list) == 0:\n",
    "        print(\"No anime recommendations available for the given users.\")\n",
    "        return pd.DataFrame()\n",
    "    \n",
    "    anime_list = pd.DataFrame(anime_list)\n",
    "    sorted_list = pd.DataFrame(pd.Series(anime_list.values.ravel()).value_counts()).head(n)\n",
    "    # Count the occurrences of each anime in the entire dataset\n",
    "    anime_count = df['anime_id'].value_counts()\n",
    "    \n",
    "    for i, anime_name in enumerate(sorted_list.index):\n",
    "        if isinstance(anime_name, str):\n",
    "            try:\n",
    "                anime_id = df_anime[df_anime.Name == anime_name].anime_id.values[0]\n",
    "                english_name = df_anime[df_anime['Name'] == anime_name]['English name'].values[0]\n",
    "                name = english_name if english_name != \"UNKNOWN\" else anime_name\n",
    "                genre = df_anime[df_anime.Name == anime_name].Genres.values[0]\n",
    "                Synopsis = df_anime[df_anime.Name == anime_name].Synopsis.values[0]\n",
    "                n_user_pref = anime_count.get(anime_id, 0)  # Get the total count of users who have watched this anime\n",
    "                recommended_animes.append({\n",
    "                    \"n\": n_user_pref,\n",
    "                    \"anime_name\": anime_name, \n",
    "                    \"Genres\": genre, \n",
    "                    \"Synopsis\": Synopsis\n",
    "                })\n",
    "            except:\n",
    "                pass\n",
    "    return pd.DataFrame(recommended_animes)"
   ]
  },
  {
   "cell_type": "code",
   "execution_count": 32,
   "metadata": {
    "tags": []
   },
   "outputs": [
    {
     "name": "stdout",
     "output_type": "stream",
     "text": [
      "\n",
      "> Top recommendations for user: 28511\n"
     ]
    },
    {
     "data": {
      "text/html": [
       "<div>\n",
       "<style scoped>\n",
       "    .dataframe tbody tr th:only-of-type {\n",
       "        vertical-align: middle;\n",
       "    }\n",
       "\n",
       "    .dataframe tbody tr th {\n",
       "        vertical-align: top;\n",
       "    }\n",
       "\n",
       "    .dataframe thead th {\n",
       "        text-align: right;\n",
       "    }\n",
       "</style>\n",
       "<table border=\"1\" class=\"dataframe\">\n",
       "  <thead>\n",
       "    <tr style=\"text-align: right;\">\n",
       "      <th></th>\n",
       "      <th>n</th>\n",
       "      <th>anime_name</th>\n",
       "      <th>Genres</th>\n",
       "      <th>Synopsis</th>\n",
       "    </tr>\n",
       "  </thead>\n",
       "  <tbody>\n",
       "    <tr>\n",
       "      <th>0</th>\n",
       "      <td>36</td>\n",
       "      <td>Kure-nai</td>\n",
       "      <td>Comedy, Drama</td>\n",
       "      <td>Shinkurou Kurenai is a 16-year-old student by day and a dispute mediator by night. Though kind-hearted and patient, due to his tragic past, he has trained for years to live on. Now, despite his unimposing appearance, he is a strong martial artist, who also possesses a strange power.\\n\\nWhile taking various jobs for his employer, Benika Juuzawa, one assignment leads Shinkurou to live with Murasaki Kuhouin as her bodyguard. Murasaki is the seven-year-old daughter of a plutocratic family, who escaped her home under peculiar circumstances with Benika's help. Commoner life, in her eyes, seems bizarre. However, by interacting with her neighbors, she grows more accustomed to the daily routine, and rids herself of her snobbish behavior, gradually growing attached to Shinkurou.\\n\\nThough many details of the job remain unclear, Shinkurou still strives to protect the young lady. But to make things more complicated, he also lacks a crucial fact—what is the real threat against Murasaki?</td>\n",
       "    </tr>\n",
       "    <tr>\n",
       "      <th>1</th>\n",
       "      <td>70</td>\n",
       "      <td>Kara no Kyoukai Movie 3: Tsuukaku Zanryuu</td>\n",
       "      <td>Action, Drama, Mystery, Supernatural, Suspense</td>\n",
       "      <td>On a solemn night in July 1998, teenager Fujino Asagami is mercilessly raped by a street gang in a dilapidated bar. No matter what physical or sexual abuse they deal, however, the girl regards her captors with the same apathetic expression. The next day, mangled bodies are discovered in that same building, so torn apart that investigators find it infeasible to even consider the culprit human.\\n\\nElsewhere, a client request reaches Touko Aozaki's detective agency, tasking Shiki Ryougi with either capturing or killing the perpetrator of last night's incident. But soon, word spreads that a single survivor escaped the slaughter, and now the murderer is plowing down everything in their path to locate and exterminate him. A brutal race against time begins, pitting Shiki against a dangerous foe imperceptible even to her legendary eyes.</td>\n",
       "    </tr>\n",
       "  </tbody>\n",
       "</table>\n",
       "</div>"
      ],
      "text/plain": [
       "    n                                 anime_name  \\\n",
       "0  36                                   Kure-nai   \n",
       "1  70  Kara no Kyoukai Movie 3: Tsuukaku Zanryuu   \n",
       "\n",
       "                                           Genres  \\\n",
       "0                                   Comedy, Drama   \n",
       "1  Action, Drama, Mystery, Supernatural, Suspense   \n",
       "\n",
       "                                                                                                                                                                                                                                                                                                                                                                                                                                                                                                                                                                                                                                                                                                                                                                                                                                                                                                                                                                                                                       Synopsis  \n",
       "0  Shinkurou Kurenai is a 16-year-old student by day and a dispute mediator by night. Though kind-hearted and patient, due to his tragic past, he has trained for years to live on. Now, despite his unimposing appearance, he is a strong martial artist, who also possesses a strange power.\\n\\nWhile taking various jobs for his employer, Benika Juuzawa, one assignment leads Shinkurou to live with Murasaki Kuhouin as her bodyguard. Murasaki is the seven-year-old daughter of a plutocratic family, who escaped her home under peculiar circumstances with Benika's help. Commoner life, in her eyes, seems bizarre. However, by interacting with her neighbors, she grows more accustomed to the daily routine, and rids herself of her snobbish behavior, gradually growing attached to Shinkurou.\\n\\nThough many details of the job remain unclear, Shinkurou still strives to protect the young lady. But to make things more complicated, he also lacks a crucial fact—what is the real threat against Murasaki?  \n",
       "1                                                                                                                                                      On a solemn night in July 1998, teenager Fujino Asagami is mercilessly raped by a street gang in a dilapidated bar. No matter what physical or sexual abuse they deal, however, the girl regards her captors with the same apathetic expression. The next day, mangled bodies are discovered in that same building, so torn apart that investigators find it infeasible to even consider the culprit human.\\n\\nElsewhere, a client request reaches Touko Aozaki's detective agency, tasking Shiki Ryougi with either capturing or killing the perpetrator of last night's incident. But soon, word spreads that a single survivor escaped the slaughter, and now the murderer is plowing down everything in their path to locate and exterminate him. A brutal race against time begins, pitting Shiki against a dangerous foe imperceptible even to her legendary eyes.  "
      ]
     },
     "execution_count": 32,
     "metadata": {},
     "output_type": "execute_result"
    }
   ],
   "source": [
    "# Get recommended animes for the random user\n",
    "recommended_animes = get_recommended_animes(similar_users, user_pref, n=10)\n",
    "\n",
    "print('\\n> Top recommendations for user: {}'.format(random_user))\n",
    "recommended_animes"
   ]
  },
  {
   "cell_type": "markdown",
   "metadata": {},
   "source": [
    "<div style=\"background-color:#FFFFFF; border-left:15px solid #3498DB; padding:20px; margin-bottom:20px; border-radius:8px;\">\n",
    "\n",
    "<h2 style=\"color:#3498DB;\">Model Training (Content-Based Filtering)</h2>\n",
    "\n",
    "<p style=\"font-size:14px; font-family: 'Arial', sans-serif; color:#2874A6;\">\n",
    "In this section, we delve into the process of model training for content-based filtering, a crucial component of our recommendation system. Content-based filtering relies on analyzing the inherent characteristics of anime content and user preferences to make personalized recommendations. Here's a breakdown of the steps involved:\n",
    "\n",
    "<h3 style=\"color:#3498DB;\">Creating a TF-IDF Vectorizer</h3>\n",
    "<p style=\"color:#2874A6;\">\n",
    "To effectively analyze anime content, we begin by creating a TF-IDF (Term Frequency-Inverse Document Frequency) vectorizer. This vectorizer is tailored to the English stop words to exclude common and less informative words from consideration.\n",
    "\n",
    "<h3 style=\"color:#3498DB;\">Generating the TF-IDF Matrix</h3>\n",
    "<p style=\"color:#2874A6;\">\n",
    "To compute the TF-IDF matrix, we define a generator that iterates through the 'Genres' column of the anime dataset. This generator efficiently computes the TF-IDF values on the fly for each anime genre.\n"
   ]
  },
  {
   "cell_type": "code",
   "execution_count": 33,
   "metadata": {
    "tags": []
   },
   "outputs": [],
   "source": [
    "# Create a TF-IDF vectorizer\n",
    "tfidf = TfidfVectorizer(stop_words='english')\n",
    "\n",
    "# Define a generator to compute TF-IDF matrix on the fly\n",
    "tfidf_matrix_generator = tfidf.fit_transform((genre for genre in df_anime['Genres'].values.astype('U')))\n",
    "\n",
    "# Compute cosine similarity matrix as a sparse matrix\n",
    "cosine_sim_sparse = linear_kernel(tfidf_matrix_generator, tfidf_matrix_generator)"
   ]
  },
  {
   "cell_type": "markdown",
   "metadata": {},
   "source": [
    "### This content-based recommendation approach enhances user experience by suggesting anime titles that align with their preferences in terms of genre and quality ratings. It's a valuable addition to our comprehensive recommendation system, offering diverse and engaging anime suggestions."
   ]
  },
  {
   "cell_type": "code",
   "execution_count": 34,
   "metadata": {
    "tags": []
   },
   "outputs": [],
   "source": [
    "# Function to get recommendations based on cosine similarity, genre, and ratings based on score\n",
    "def get_recommendations(title, cosine_sim, df):\n",
    "    idx = df_anime[df_anime['Name'] == title].index[0]\n",
    "\n",
    "    # Compute the similarity scores between the anime at the given index and all other animes\n",
    "    sim_scores = list(enumerate(cosine_sim[idx]))\n",
    "\n",
    "    # Filter out animes with unknown scores\n",
    "    valid_scores = [x for x in sim_scores if df_anime.iloc[x[0]]['Score'] != \"UNKNOWN\"]\n",
    "\n",
    "    # Sort the valid anime similarity scores based on the cosine similarity and ratings score in descending order\n",
    "    sorted_scores = sorted(valid_scores, key=lambda x: (x[1], df_anime.iloc[x[0]]['Score']), reverse=True)\n",
    "\n",
    "    # Get the top 10 similar animes (excluding the anime itself)\n",
    "    top_animes = [x for x in sorted_scores if x[0] != idx][:10]\n",
    "\n",
    "    # Extract the indices of the recommended animes\n",
    "    recommended_indices = [idx for idx, _ in top_animes]\n",
    "    recommended_animes = df_anime.iloc[recommended_indices][['Name', 'Genres', 'Score']]\n",
    "    return recommended_animes"
   ]
  },
  {
   "cell_type": "code",
   "execution_count": 35,
   "metadata": {
    "tags": []
   },
   "outputs": [
    {
     "name": "stdout",
     "output_type": "stream",
     "text": [
      "Recommendations for \"Kono Subarashii Sekai ni Shukufuku wo!\":\n"
     ]
    },
    {
     "data": {
      "text/html": [
       "<div>\n",
       "<style scoped>\n",
       "    .dataframe tbody tr th:only-of-type {\n",
       "        vertical-align: middle;\n",
       "    }\n",
       "\n",
       "    .dataframe tbody tr th {\n",
       "        vertical-align: top;\n",
       "    }\n",
       "\n",
       "    .dataframe thead th {\n",
       "        text-align: right;\n",
       "    }\n",
       "</style>\n",
       "<table border=\"1\" class=\"dataframe\">\n",
       "  <thead>\n",
       "    <tr style=\"text-align: right;\">\n",
       "      <th></th>\n",
       "      <th>Name</th>\n",
       "      <th>Genres</th>\n",
       "      <th>Score</th>\n",
       "    </tr>\n",
       "  </thead>\n",
       "  <tbody>\n",
       "    <tr>\n",
       "      <th>14578</th>\n",
       "      <td>Kono Subarashii Sekai ni Shukufuku wo! Movie: Kurenai Densetsu</td>\n",
       "      <td>Adventure, Comedy, Fantasy</td>\n",
       "      <td>8.45</td>\n",
       "    </tr>\n",
       "    <tr>\n",
       "      <th>11572</th>\n",
       "      <td>Kono Subarashii Sekai ni Shukufuku wo! 2</td>\n",
       "      <td>Adventure, Comedy, Fantasy</td>\n",
       "      <td>8.27</td>\n",
       "    </tr>\n",
       "    <tr>\n",
       "      <th>6241</th>\n",
       "      <td>Doraemon Movie 31: Shin Nobita to Tetsujin Heidan - Habatake Tenshi-tachi</td>\n",
       "      <td>Adventure, Comedy, Fantasy</td>\n",
       "      <td>8.14</td>\n",
       "    </tr>\n",
       "    <tr>\n",
       "      <th>12451</th>\n",
       "      <td>Kono Subarashii Sekai ni Shukufuku wo! 2: Kono Subarashii Geijutsu ni Shukufuku wo!</td>\n",
       "      <td>Adventure, Comedy, Fantasy</td>\n",
       "      <td>8.03</td>\n",
       "    </tr>\n",
       "    <tr>\n",
       "      <th>502</th>\n",
       "      <td>Slayers Next</td>\n",
       "      <td>Adventure, Comedy, Fantasy</td>\n",
       "      <td>8.02</td>\n",
       "    </tr>\n",
       "    <tr>\n",
       "      <th>1068</th>\n",
       "      <td>Slayers Try</td>\n",
       "      <td>Adventure, Comedy, Fantasy</td>\n",
       "      <td>7.81</td>\n",
       "    </tr>\n",
       "    <tr>\n",
       "      <th>11859</th>\n",
       "      <td>Little Witch Academia (TV)</td>\n",
       "      <td>Adventure, Comedy, Fantasy</td>\n",
       "      <td>7.81</td>\n",
       "    </tr>\n",
       "    <tr>\n",
       "      <th>12531</th>\n",
       "      <td>Mahoujin Guruguru (2017)</td>\n",
       "      <td>Adventure, Comedy, Fantasy</td>\n",
       "      <td>7.81</td>\n",
       "    </tr>\n",
       "    <tr>\n",
       "      <th>7105</th>\n",
       "      <td>Little Witch Academia</td>\n",
       "      <td>Adventure, Comedy, Fantasy</td>\n",
       "      <td>7.8</td>\n",
       "    </tr>\n",
       "    <tr>\n",
       "      <th>8061</th>\n",
       "      <td>Little Witch Academia: Mahoujikake no Parade</td>\n",
       "      <td>Adventure, Comedy, Fantasy</td>\n",
       "      <td>7.75</td>\n",
       "    </tr>\n",
       "  </tbody>\n",
       "</table>\n",
       "</div>"
      ],
      "text/plain": [
       "                                                                                      Name  \\\n",
       "14578                       Kono Subarashii Sekai ni Shukufuku wo! Movie: Kurenai Densetsu   \n",
       "11572                                             Kono Subarashii Sekai ni Shukufuku wo! 2   \n",
       "6241             Doraemon Movie 31: Shin Nobita to Tetsujin Heidan - Habatake Tenshi-tachi   \n",
       "12451  Kono Subarashii Sekai ni Shukufuku wo! 2: Kono Subarashii Geijutsu ni Shukufuku wo!   \n",
       "502                                                                           Slayers Next   \n",
       "1068                                                                           Slayers Try   \n",
       "11859                                                           Little Witch Academia (TV)   \n",
       "12531                                                             Mahoujin Guruguru (2017)   \n",
       "7105                                                                 Little Witch Academia   \n",
       "8061                                          Little Witch Academia: Mahoujikake no Parade   \n",
       "\n",
       "                           Genres Score  \n",
       "14578  Adventure, Comedy, Fantasy  8.45  \n",
       "11572  Adventure, Comedy, Fantasy  8.27  \n",
       "6241   Adventure, Comedy, Fantasy  8.14  \n",
       "12451  Adventure, Comedy, Fantasy  8.03  \n",
       "502    Adventure, Comedy, Fantasy  8.02  \n",
       "1068   Adventure, Comedy, Fantasy  7.81  \n",
       "11859  Adventure, Comedy, Fantasy  7.81  \n",
       "12531  Adventure, Comedy, Fantasy  7.81  \n",
       "7105   Adventure, Comedy, Fantasy   7.8  \n",
       "8061   Adventure, Comedy, Fantasy  7.75  "
      ]
     },
     "execution_count": 35,
     "metadata": {},
     "output_type": "execute_result"
    }
   ],
   "source": [
    "# Example usage: Get recommendations for an anime\n",
    "anime_title = 'Kono Subarashii Sekai ni Shukufuku wo!'\n",
    "recommendations = get_recommendations(anime_title, cosine_sim_sparse, df_anime)\n",
    "print(f'Recommendations for \"{anime_title}\":')\n",
    "recommendations"
   ]
  },
  {
   "cell_type": "code",
   "execution_count": 36,
   "metadata": {
    "tags": []
   },
   "outputs": [
    {
     "name": "stdout",
     "output_type": "stream",
     "text": [
      "Recommendations for \"One Piece\":\n"
     ]
    },
    {
     "data": {
      "text/html": [
       "<div>\n",
       "<style scoped>\n",
       "    .dataframe tbody tr th:only-of-type {\n",
       "        vertical-align: middle;\n",
       "    }\n",
       "\n",
       "    .dataframe tbody tr th {\n",
       "        vertical-align: top;\n",
       "    }\n",
       "\n",
       "    .dataframe thead th {\n",
       "        text-align: right;\n",
       "    }\n",
       "</style>\n",
       "<table border=\"1\" class=\"dataframe\">\n",
       "  <thead>\n",
       "    <tr style=\"text-align: right;\">\n",
       "      <th></th>\n",
       "      <th>Name</th>\n",
       "      <th>Genres</th>\n",
       "      <th>Score</th>\n",
       "    </tr>\n",
       "  </thead>\n",
       "  <tbody>\n",
       "    <tr>\n",
       "      <th>16617</th>\n",
       "      <td>Bleach: Sennen Kessen-hen</td>\n",
       "      <td>Action, Adventure, Fantasy</td>\n",
       "      <td>9.07</td>\n",
       "    </tr>\n",
       "    <tr>\n",
       "      <th>6456</th>\n",
       "      <td>Hunter x Hunter (2011)</td>\n",
       "      <td>Action, Adventure, Fantasy</td>\n",
       "      <td>9.04</td>\n",
       "    </tr>\n",
       "    <tr>\n",
       "      <th>115</th>\n",
       "      <td>Hunter x Hunter</td>\n",
       "      <td>Action, Adventure, Fantasy</td>\n",
       "      <td>8.41</td>\n",
       "    </tr>\n",
       "    <tr>\n",
       "      <th>116</th>\n",
       "      <td>Hunter x Hunter: Original Video Animation</td>\n",
       "      <td>Action, Adventure, Fantasy</td>\n",
       "      <td>8.31</td>\n",
       "    </tr>\n",
       "    <tr>\n",
       "      <th>1574</th>\n",
       "      <td>Naruto: Shippuuden</td>\n",
       "      <td>Action, Adventure, Fantasy</td>\n",
       "      <td>8.26</td>\n",
       "    </tr>\n",
       "    <tr>\n",
       "      <th>19600</th>\n",
       "      <td>Jigokuraku</td>\n",
       "      <td>Action, Adventure, Fantasy</td>\n",
       "      <td>8.26</td>\n",
       "    </tr>\n",
       "    <tr>\n",
       "      <th>118</th>\n",
       "      <td>Hunter x Hunter: Greed Island Final</td>\n",
       "      <td>Action, Adventure, Fantasy</td>\n",
       "      <td>8.25</td>\n",
       "    </tr>\n",
       "    <tr>\n",
       "      <th>23239</th>\n",
       "      <td>Dungeon ni Deai wo Motomeru no wa Machigatteiru Darou ka IV: Fuka Shou - Yakusai-hen</td>\n",
       "      <td>Action, Adventure, Fantasy</td>\n",
       "      <td>8.24</td>\n",
       "    </tr>\n",
       "    <tr>\n",
       "      <th>7799</th>\n",
       "      <td>Magi: The Kingdom of Magic</td>\n",
       "      <td>Action, Adventure, Fantasy</td>\n",
       "      <td>8.22</td>\n",
       "    </tr>\n",
       "    <tr>\n",
       "      <th>14699</th>\n",
       "      <td>One Piece Movie 14: Stampede</td>\n",
       "      <td>Action, Adventure, Fantasy</td>\n",
       "      <td>8.22</td>\n",
       "    </tr>\n",
       "  </tbody>\n",
       "</table>\n",
       "</div>"
      ],
      "text/plain": [
       "                                                                                       Name  \\\n",
       "16617                                                             Bleach: Sennen Kessen-hen   \n",
       "6456                                                                 Hunter x Hunter (2011)   \n",
       "115                                                                         Hunter x Hunter   \n",
       "116                                               Hunter x Hunter: Original Video Animation   \n",
       "1574                                                                     Naruto: Shippuuden   \n",
       "19600                                                                            Jigokuraku   \n",
       "118                                                     Hunter x Hunter: Greed Island Final   \n",
       "23239  Dungeon ni Deai wo Motomeru no wa Machigatteiru Darou ka IV: Fuka Shou - Yakusai-hen   \n",
       "7799                                                             Magi: The Kingdom of Magic   \n",
       "14699                                                          One Piece Movie 14: Stampede   \n",
       "\n",
       "                           Genres Score  \n",
       "16617  Action, Adventure, Fantasy  9.07  \n",
       "6456   Action, Adventure, Fantasy  9.04  \n",
       "115    Action, Adventure, Fantasy  8.41  \n",
       "116    Action, Adventure, Fantasy  8.31  \n",
       "1574   Action, Adventure, Fantasy  8.26  \n",
       "19600  Action, Adventure, Fantasy  8.26  \n",
       "118    Action, Adventure, Fantasy  8.25  \n",
       "23239  Action, Adventure, Fantasy  8.24  \n",
       "7799   Action, Adventure, Fantasy  8.22  \n",
       "14699  Action, Adventure, Fantasy  8.22  "
      ]
     },
     "execution_count": 36,
     "metadata": {},
     "output_type": "execute_result"
    }
   ],
   "source": [
    "anime_title = 'One Piece'\n",
    "recommendations = get_recommendations(anime_title, cosine_sim_sparse, df_anime)\n",
    "print(f'Recommendations for \"{anime_title}\":')\n",
    "recommendations"
   ]
  },
  {
   "cell_type": "code",
   "execution_count": 37,
   "metadata": {},
   "outputs": [],
   "source": [
    "def get_recommendations(cosine_sim, df):\n",
    "    # Display available genres\n",
    "    unique_genres = set()\n",
    "    for genres in df_anime['Genres'].dropna().unique():\n",
    "        unique_genres.update(genre.strip() for genre in genres.split(','))\n",
    "    print(\"Available genres:\", \", \".join(sorted(unique_genres)))\n",
    "\n",
    "    # Asking user for the type of input\n",
    "    choice = input(\"Enter 'title' to recommend based on a specific anime or 'genre' for genre-based recommendation: \").lower()\n",
    "\n",
    "    if choice == 'title':\n",
    "        # Existing logic for title-based recommendation\n",
    "        title = input(\"Enter the anime title: \")\n",
    "        idx = df_anime[df_anime['Name'] == title].index[0]\n",
    "        sim_scores = list(enumerate(cosine_sim[idx]))\n",
    "        valid_scores = [x for x in sim_scores if df.iloc[x[0]]['Score'] != \"UNKNOWN\"]\n",
    "        sorted_scores = sorted(valid_scores, key=lambda x: (x[1], df_anime.iloc[x[0]]['Score']), reverse=True)\n",
    "        top_animes = [x for x in sorted_scores if x[0] != idx][:10]\n",
    "        recommended_indices = [idx for idx, _ in top_animes]\n",
    "        recommended_animes = df_anime.iloc[recommended_indices][['Name', 'Genres', 'Score']]\n",
    "        return recommended_animes\n",
    "\n",
    "    elif choice == 'genre':\n",
    "        # New logic for genre-based recommendation\n",
    "        genres = input(\"Enter a list of genres separated by commas: \").split(',')\n",
    "        genres = [genre.strip().lower() for genre in genres]  # Clean and normalize input\n",
    "        # Filter the dataframe to include only animes that match the input genres\n",
    "        genre_filtered_df = df_anime[df_anime['Genres'].apply(lambda x: any(genre in x.lower() for genre in genres))]\n",
    "        # Recommend top animes based on score within the filtered genre dataframe\n",
    "        top_genre_animes = genre_filtered_df.sort_values(by='Score', ascending=False).head(10)\n",
    "        return top_genre_animes\n",
    "\n",
    "    else:\n",
    "        return \"Invalid choice. Please enter 'title' or 'genre'.\"\n"
   ]
  },
  {
   "cell_type": "code",
   "execution_count": 38,
   "metadata": {
    "tags": []
   },
   "outputs": [
    {
     "name": "stdout",
     "output_type": "stream",
     "text": [
      "Available genres: Action, Adventure, Avant Garde, Award Winning, Boys Love, Comedy, Drama, Ecchi, Erotica, Fantasy, Girls Love, Gourmet, Hentai, Horror, Mystery, Romance, Sci-Fi, Slice of Life, Sports, Supernatural, Suspense, UNKNOWN\n"
     ]
    },
    {
     "name": "stdin",
     "output_type": "stream",
     "text": [
      "Enter 'title' to recommend based on a specific anime or 'genre' for genre-based recommendation:  q\n"
     ]
    },
    {
     "data": {
      "text/plain": [
       "\"Invalid choice. Please enter 'title' or 'genre'.\""
      ]
     },
     "execution_count": 38,
     "metadata": {},
     "output_type": "execute_result"
    }
   ],
   "source": [
    "get_recommendations(cosine_sim_sparse, df_anime)"
   ]
  },
  {
   "cell_type": "markdown",
   "metadata": {
    "tags": []
   },
   "source": [
    "<div style=\"background-color:#FFFFFF; border-left:15px solid #922B21; padding:20px; margin-bottom:20px; border-radius:8px;\">\n",
    "\n",
    "<h2 style=\"color:#922B21;\">Evaluation (Part 1)</h2>\n",
    "\n",
    "<p style=\"font-size:14px; font-family: 'Arial', sans-serif; color:#E59866;\">\n",
    "In this section, we embark on the critical task of evaluating our recommendation system. The evaluation process is divided into multiple parts, and here we focus on the initial evaluation steps. Let's break down the key steps involved:\n",
    "\n",
    "**Data Preprocessing**\n",
    "\n",
    "Before diving into evaluation, it's imperative to ensure that our data is properly prepared for analysis. This includes:\n",
    "- Merging the user and anime dataframes on 'anime_id' to create a consolidated dataset.\n",
    "- Handling missing or 'UNKNOWN' values in numeric columns by replacing them with the median value.\n",
    "- Dealing with the 'Genres' feature, which is multi-label. We split this feature into binary columns using one-hot encoding.\n",
    "- Handling single-label categorical features like 'Type' and 'Rating'. We replace 'UNKNOWN' values with the mode of the respective columns and create dummy variables for these features.\n",
    "\n",
    "**Feature Selection**\n",
    "\n",
    "Selecting the right features is crucial for model performance. We choose predictor variables, including one-hot encoded genre information, type, rating, and the 'Episodes' feature. The user ratings for anime ('rating') are set as the target variable for our model.\n",
    "\n",
    "**Model Training and Evaluation**\n",
    "\n",
    "With our data prepared and features selected, we proceed to train and evaluate our recommendation model. Here are the key steps:\n",
    "- Initialize a K-Fold cross-validation with 5 folds for robust evaluation.\n",
    "- Use a Linear Regression model for predicting user ratings.\n",
    "- Iteratively train the model on different folds and evaluate its performance using Mean Squared Error (MSE).\n",
    "- Calculate the average MSE as a measure of how well the model predicts user ratings.\n",
    "\n",
    "**Visualizing Results**\n",
    "\n",
    "To gain insights into our model's performance, we visualize the results in three ways:\n",
    "- A scatter plot of actual vs. predicted values to assess how closely the model predictions align with the true ratings.\n",
    "- A residual plot to visualize the differences between actual and predicted ratings.\n",
    "- A Q-Q Plot (Quantile-Quantile Plot) to check the normality of residuals.\n",
    "\n",
    "This initial evaluation provides valuable insights into the effectiveness of our recommendation system and guides further refinement and optimization.\n",
    "</p>\n",
    "\n",
    "</div>\n"
   ]
  },
  {
   "cell_type": "code",
   "execution_count": 44,
   "metadata": {
    "tags": []
   },
   "outputs": [],
   "source": [
    "# Merging the dataframes on anime_id\n",
    "merged_df = pd.merge(df, df_anime, on='anime_id')\n",
    "# Replace 'UNKNOWN' in numeric columns with median\n",
    "numeric_columns = ['Episodes']  # Add other numeric columns as necessary\n",
    "for col in numeric_columns:\n",
    "    merged_df[col] = pd.to_numeric(merged_df[col], errors='coerce')\n",
    "    merged_df[col].fillna(merged_df[col].median(), inplace=True)\n",
    "# Handling 'Genres' (Multi-label feature)\n",
    "merged_df['Genres'] = merged_df['Genres'].apply(lambda x: x.split(', ') if isinstance(x, str) and x != 'UNKNOWN' else [])\n",
    "mlb = MultiLabelBinarizer()\n",
    "genres_encoded = mlb.fit_transform(merged_df['Genres'])\n",
    "genres_df = pd.DataFrame(genres_encoded, columns=mlb.classes_)\n"
   ]
  },
  {
   "cell_type": "code",
   "execution_count": 45,
   "metadata": {
    "tags": []
   },
   "outputs": [],
   "source": [
    "# Handling 'Type' and 'Rating' (Single-label categorical features)\n",
    "# If 'UNKNOWN' should be a separate category, no change needed. If not, replace with mode\n",
    "categorical_columns = ['Type', 'Rating']  # Add other categorical columns as necessary\n",
    "for col in categorical_columns:\n",
    "    if 'UNKNOWN' in merged_df[col].unique():\n",
    "        merged_df[col].replace('UNKNOWN', merged_df[col].mode()[0], inplace=True)\n",
    "\n",
    "type_dummies = pd.get_dummies(merged_df['Type'], prefix='Type')\n",
    "rating_dummies = pd.get_dummies(merged_df['Rating'], prefix='Rating')\n",
    "# Merging the new features back into the original DataFrame\n",
    "merged_df = pd.concat([merged_df, genres_df, type_dummies, rating_dummies], axis=1)\n",
    "# Selecting features for the model\n",
    "feature_columns = mlb.classes_.tolist() + type_dummies.columns.tolist() + rating_dummies.columns.tolist() + ['Episodes']\n",
    "X = merged_df[feature_columns]  # Predictor variables\n",
    "y = merged_df['rating']  # Assuming 'rating' is the user rating for an anime\n"
   ]
  },
  {
   "cell_type": "code",
   "execution_count": 46,
   "metadata": {},
   "outputs": [
    {
     "name": "stdout",
     "output_type": "stream",
     "text": [
      "Average Mean Squared Error: 2.6406090974396506\n"
     ]
    }
   ],
   "source": [
    "# Initialize KFold\n",
    "kf = KFold(n_splits=5, shuffle=True, random_state=42)\n",
    "\n",
    "# Initialize the model\n",
    "model = LinearRegression()\n",
    "# K-Fold Cross-Validation\n",
    "mse_scores = []\n",
    "\n",
    "for train_index, test_index in kf.split(X):\n",
    "    X_train, X_test = X.iloc[train_index], X.iloc[test_index]\n",
    "    y_train, y_test = y.iloc[train_index], y.iloc[test_index]\n",
    "\n",
    "    # Train the model\n",
    "    model.fit(X_train, y_train)\n",
    "\n",
    "    # Predict and evaluate\n",
    "    y_pred = model.predict(X_test)\n",
    "    mse = mean_squared_error(y_test, y_pred)\n",
    "    mse_scores.append(mse)\n",
    "# Calculate average MSE\n",
    "average_mse = sum(mse_scores) / len(mse_scores)\n",
    "print(f'Average Mean Squared Error: {average_mse}')\n"
   ]
  },
  {
   "cell_type": "code",
   "execution_count": 54,
   "metadata": {
    "tags": []
   },
   "outputs": [
    {
     "data": {
      "image/png": "[encoded data removed]",
      "text/plain": [
       "<Figure size 640x480 with 1 Axes>"
      ]
     },
     "metadata": {},
     "output_type": "display_data"
    },
    {
     "data": {
      "image/png": "[encoded data removed]",
      "text/plain": [
       "<Figure size 640x480 with 1 Axes>"
      ]
     },
     "metadata": {},
     "output_type": "display_data"
    },
    {
     "data": {
      "image/png": "[encoded data removed]",
      "text/plain": [
       "<Figure size 640x480 with 1 Axes>"
      ]
     },
     "metadata": {},
     "output_type": "display_data"
    }
   ],
   "source": [
    "# Visualize predicted vs. actual values\n",
    "plt.scatter(y_test, y_pred)\n",
    "plt.xlabel('Actual Values')\n",
    "plt.ylabel('Predicted Values')\n",
    "plt.title('Actual vs. Predicted Values')\n",
    "plt.show()\n",
    "\n",
    "# Residual Plot\n",
    "residuals = y_test - y_pred\n",
    "plt.scatter(y_pred, residuals)\n",
    "plt.xlabel('Predicted Values')\n",
    "plt.ylabel('Residuals (Actual - Predicted)')\n",
    "plt.axhline(y=0, color='r', linestyle='--')\n",
    "plt.title('Residual Plot')\n",
    "plt.show()\n",
    "\n",
    "# Q-Q Plot (Quantile-Quantile Plot) for normality check\n",
    "import statsmodels.api as sm\n",
    "qqplot = sm.qqplot(residuals, line='s')\n",
    "plt.title('Q-Q Plot')\n",
    "plt.show()"
   ]
  },
  {
   "cell_type": "code",
   "execution_count": null,
   "metadata": {},
   "outputs": [],
   "source": []
  }
 ],
 "metadata": {
  "kernelspec": {
   "display_name": "Python 3 (ipykernel)",
   "language": "python",
   "name": "python3"
  },
  "language_info": {
   "codemirror_mode": {
    "name": "ipython",
    "version": 3
   },
   "file_extension": ".py",
   "mimetype": "text/x-python",
   "name": "python",
   "nbconvert_exporter": "python",
   "pygments_lexer": "ipython3",
   "version": "3.9.16"
  }
 },
 "nbformat": 4,
 "nbformat_minor": 4
}
